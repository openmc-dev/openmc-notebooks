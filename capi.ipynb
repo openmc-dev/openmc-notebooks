{
 "cells": [
  {
   "cell_type": "markdown",
   "metadata": {},
   "source": [
    "# Using the C/C++ API\n",
    "This notebook shows how to use the OpenMC C/C++ API through the openmc.lib module. This module is particularly useful for multiphysics coupling because it allows you to update the density of materials and the temperatures of cells in memory, without stopping the simulation.\n",
    "\n",
    "Warning: these bindings are still somewhat experimental and may be subject to change in future versions of OpenMC."
   ]
  },
  {
   "cell_type": "code",
   "execution_count": 1,
   "metadata": {},
   "outputs": [],
   "source": [
    "%matplotlib inline\n",
    "import openmc\n",
    "import openmc.lib"
   ]
  },
  {
   "cell_type": "markdown",
   "metadata": {},
   "source": [
    "<b>Generate Input Files</b>\n",
    "\n",
    "Let's start by creating a fuel rod geometry. We will make 10 zones in the z-direction which will allow us to make changes to each zone. Changes in temperature have to be made on the cell, so will make 10 cells in the axial direction. Changes in density have to be made on the material, so we will make 10  water materials. "
   ]
  },
  {
   "cell_type": "markdown",
   "metadata": {},
   "source": [
    "Materials: we will make a fuel, helium, zircaloy, and 10 water materials. "
   ]
  },
  {
   "cell_type": "code",
   "execution_count": 2,
   "metadata": {},
   "outputs": [],
   "source": [
    "material_list = []"
   ]
  },
  {
   "cell_type": "code",
   "execution_count": 3,
   "metadata": {},
   "outputs": [],
   "source": [
    "uo2 = openmc.Material(material_id=1, name='UO2 fuel at 2.4% wt enrichment')\n",
    "uo2.set_density('g/cm3', 10.29769)\n",
    "uo2.add_element('U', 1., enrichment=2.4)\n",
    "uo2.add_element('O', 2.)\n",
    "material_list.append(uo2)\n",
    "\n",
    "helium = openmc.Material(material_id=2, name='Helium for gap')\n",
    "helium.set_density('g/cm3', 0.001598)\n",
    "helium.add_element('He', 2.4044e-4)\n",
    "material_list.append(helium)\n",
    "\n",
    "zircaloy = openmc.Material(material_id=3, name='Zircaloy 4')\n",
    "zircaloy.set_density('g/cm3', 6.55)\n",
    "zircaloy.add_element('Sn', 0.014, 'wo')\n",
    "zircaloy.add_element('Fe', 0.00165, 'wo')\n",
    "zircaloy.add_element('Cr', 0.001, 'wo')\n",
    "zircaloy.add_element('Zr', 0.98335, 'wo')\n",
    "material_list.append(zircaloy)\n",
    "\n",
    "for i in range(4, 14):\n",
    "    water = openmc.Material(material_id=i)\n",
    "    water.set_density('g/cm3', 0.7)\n",
    "    water.add_element('H', 2.0)\n",
    "    water.add_element('O', 1.0)\n",
    "    water.add_s_alpha_beta('c_H_in_H2O')\n",
    "    material_list.append(water)\n",
    "    \n",
    "materials_file = openmc.Materials(material_list)\n",
    "materials_file.export_to_xml()"
   ]
  },
  {
   "cell_type": "markdown",
   "metadata": {},
   "source": [
    "Cells: we will make a fuel cylinder, a gap cylinder, a cladding cylinder, and a water exterior. Each one will be broken into 10 cells which are the 10 axial zones. The z_list is the list of axial positions that delimit those 10 zones. To keep track of all the cells, we will create lists: fuel_list, gap_list, clad_list, and water_list. "
   ]
  },
  {
   "cell_type": "code",
   "execution_count": 4,
   "metadata": {},
   "outputs": [],
   "source": [
    "pitch = 1.25984\n",
    "fuel_or = openmc.ZCylinder(r=0.39218)\n",
    "clad_ir = openmc.ZCylinder(r=0.40005)\n",
    "clad_or = openmc.ZCylinder(r=0.4572)\n",
    "left = openmc.XPlane(x0=-pitch/2)\n",
    "right = openmc.XPlane(x0=pitch/2)\n",
    "back = openmc.YPlane(y0=-pitch/2)\n",
    "front = openmc.YPlane(y0=pitch/2)\n",
    "z = [0., 30., 60., 90., 120., 150., 180., 210., 240., 270., 300.]\n",
    "z_list = [openmc.ZPlane(z0=z_i) for z_i in z]"
   ]
  },
  {
   "cell_type": "code",
   "execution_count": 5,
   "metadata": {},
   "outputs": [],
   "source": [
    "left.boundary_type = 'reflective'\n",
    "right.boundary_type = 'reflective'\n",
    "front.boundary_type = 'reflective'\n",
    "back.boundary_type = 'reflective'\n",
    "z_list[0].boundary_type = 'vacuum'\n",
    "z_list[-1].boundary_type = 'vacuum'"
   ]
  },
  {
   "cell_type": "code",
   "execution_count": 6,
   "metadata": {},
   "outputs": [],
   "source": [
    "fuel_list = []\n",
    "gap_list = []\n",
    "clad_list = []\n",
    "water_list = []\n",
    "for i in range(1, 11):\n",
    "    fuel_list.append(openmc.Cell(cell_id=i))\n",
    "    gap_list.append(openmc.Cell(cell_id=i+10))\n",
    "    clad_list.append(openmc.Cell(cell_id=i+20))\n",
    "    water_list.append(openmc.Cell(cell_id=i+30))\n",
    "    \n",
    "for j, fuels in enumerate(fuel_list):\n",
    "    fuels.region = -fuel_or & +z_list[j] & -z_list[j+1]\n",
    "    fuels.fill = uo2\n",
    "    fuels.temperature = 800.\n",
    "\n",
    "for j, gaps in enumerate(gap_list):\n",
    "    gaps.region = +fuel_or & -clad_ir & +z_list[j] & -z_list[j+1]\n",
    "    gaps.fill = helium\n",
    "    gaps.temperature = 700.\n",
    "\n",
    "for j, clads in enumerate(clad_list):\n",
    "    clads.region = +clad_ir & -clad_or & +z_list[j] & -z_list[j+1]\n",
    "    clads.fill = zircaloy\n",
    "    clads.temperature = 600.\n",
    "\n",
    "for j, waters in enumerate(water_list):\n",
    "    waters.region = +clad_or & +left & -right & +back & -front & +z_list[j] & -z_list[j+1]\n",
    "    waters.fill = material_list[j+3]\n",
    "    waters.temperature = 500."
   ]
  },
  {
   "cell_type": "code",
   "execution_count": 7,
   "metadata": {},
   "outputs": [],
   "source": [
    "root = openmc.Universe(name='root universe')\n",
    "root.add_cells(fuel_list)\n",
    "root.add_cells(gap_list)\n",
    "root.add_cells(clad_list)\n",
    "root.add_cells(water_list)\n",
    "geometry_file = openmc.Geometry(root)\n",
    "geometry_file.export_to_xml()"
   ]
  },
  {
   "cell_type": "markdown",
   "metadata": {},
   "source": [
    "If you are coupling this externally to a heat transfer solver, you will want to know the heat deposited by each fuel cell. So let's create a cell filter for the recoverable fission heat. "
   ]
  },
  {
   "cell_type": "code",
   "execution_count": 8,
   "metadata": {},
   "outputs": [],
   "source": [
    "cell_filter = openmc.CellFilter(fuel_list)\n",
    "t = openmc.Tally(tally_id=1)\n",
    "t.filters.append(cell_filter)\n",
    "t.scores = ['fission-q-recoverable']\n",
    "tallies = openmc.Tallies([t])\n",
    "tallies.export_to_xml()"
   ]
  },
  {
   "cell_type": "markdown",
   "metadata": {},
   "source": [
    "Let's plot our geometry to make sure it looks like we expect. Since we made new water materials in each axial cell, and we have centered the plot at 150, we should see one color for the water material in the bottom half and a different color for the water material in the top half. "
   ]
  },
  {
   "cell_type": "code",
   "execution_count": 9,
   "metadata": {},
   "outputs": [
    {
     "data": {
      "text/plain": [
       "<matplotlib.image.AxesImage at 0x7f711be8abb0>"
      ]
     },
     "execution_count": 9,
     "metadata": {},
     "output_type": "execute_result"
    },
    {
     "data": {
      "image/png": "[encoded data removed]",
      "text/plain": [
       "<Figure size 516.129x529.801 with 1 Axes>"
      ]
     },
     "metadata": {
      "needs_background": "light"
     },
     "output_type": "display_data"
    }
   ],
   "source": [
    "root.plot(basis='yz', width=[2, 10], color_by='material', origin=[0., 0., 150.], pixels=[400, 400])"
   ]
  },
  {
   "cell_type": "markdown",
   "metadata": {},
   "source": [
    "Settings: everything will be standard except for the temperature settings. Since we will be working with specified temperatures, you will need temperature dependent data. I typically use the endf data found here: https://openmc.org/official-data-libraries/\n",
    "Make sure your cross sections environment variable is pointing to temperature-dependent data before using the following settings."
   ]
  },
  {
   "cell_type": "code",
   "execution_count": 10,
   "metadata": {},
   "outputs": [],
   "source": [
    "lower_left = [-0.62992, -pitch/2, 0]\n",
    "upper_right = [+0.62992, +pitch/2, +300]\n",
    "uniform_dist = openmc.stats.Box(lower_left, upper_right, only_fissionable=True)\n",
    "\n",
    "settings_file = openmc.Settings()\n",
    "settings_file.batches = 100\n",
    "settings_file.inactive = 10\n",
    "settings_file.particles = 10000\n",
    "settings_file.temperature = {'multipole': True, 'method': 'interpolation', 'range': [290, 2500]}\n",
    "settings_file.source = openmc.source.Source(space=uniform_dist)\n",
    "settings_file.export_to_xml()"
   ]
  },
  {
   "cell_type": "markdown",
   "metadata": {},
   "source": [
    "To run a regular simulation, just use openmc.run(). \n",
    "However, we want to run a simulation that we can stop in the middle and update the material and cell properties. So we will use openmc.lib."
   ]
  },
  {
   "cell_type": "code",
   "execution_count": 11,
   "metadata": {},
   "outputs": [
    {
     "name": "stdout",
     "output_type": "stream",
     "text": [
      "                                %%%%%%%%%%%%%%%\n",
      "                           %%%%%%%%%%%%%%%%%%%%%%%%\n",
      "                        %%%%%%%%%%%%%%%%%%%%%%%%%%%%%%\n",
      "                      %%%%%%%%%%%%%%%%%%%%%%%%%%%%%%%%%%\n",
      "                    %%%%%%%%%%%%%%%%%%%%%%%%%%%%%%%%%%%%%%\n",
      "                   %%%%%%%%%%%%%%%%%%%%%%%%%%%%%%%%%%%%%%%%\n",
      "                                    %%%%%%%%%%%%%%%%%%%%%%%%\n",
      "                                     %%%%%%%%%%%%%%%%%%%%%%%%\n",
      "                 ###############      %%%%%%%%%%%%%%%%%%%%%%%%\n",
      "                ##################     %%%%%%%%%%%%%%%%%%%%%%%\n",
      "                ###################     %%%%%%%%%%%%%%%%%%%%%%%\n",
      "                ####################     %%%%%%%%%%%%%%%%%%%%%%\n",
      "                #####################     %%%%%%%%%%%%%%%%%%%%%\n",
      "                ######################     %%%%%%%%%%%%%%%%%%%%\n",
      "                #######################     %%%%%%%%%%%%%%%%%%\n",
      "                 #######################     %%%%%%%%%%%%%%%%%\n",
      "                 ######################     %%%%%%%%%%%%%%%%%\n",
      "                  ####################     %%%%%%%%%%%%%%%%%\n",
      "                    #################     %%%%%%%%%%%%%%%%%\n",
      "                     ###############     %%%%%%%%%%%%%%%%\n",
      "                       ############     %%%%%%%%%%%%%%%\n",
      "                          ########     %%%%%%%%%%%%%%\n",
      "                                      %%%%%%%%%%%\n",
      "\n",
      "                 | The OpenMC Monte Carlo Code\n",
      "       Copyright | 2011-2022 MIT, UChicago Argonne LLC, and contributors\n",
      "         License | https://docs.openmc.org/en/latest/license.html\n",
      "         Version | 0.13.1\n",
      "        Git SHA1 | 33bc948f4b855c037975f16d16091fe4ecd12de3\n",
      "       Date/Time | 2022-10-03 22:36:24\n",
      "  OpenMP Threads | 2\n",
      "\n",
      " Reading settings XML file...\n",
      " Reading cross sections XML file...\n",
      " Reading materials XML file...\n",
      " Reading geometry XML file...\n",
      " Reading U234 from /home/pshriwise/data/xs/openmc/endfb71_hdf5/U234.h5\n",
      " Reading U234 WMP data from\n",
      " /home/pshriwise/data/xs/openmc/endfb71_hdf5/wmp/092234.h5\n",
      " Reading U235 from /home/pshriwise/data/xs/openmc/endfb71_hdf5/U235.h5\n",
      " Reading U235 WMP data from\n",
      " /home/pshriwise/data/xs/openmc/endfb71_hdf5/wmp/092235.h5\n",
      " Reading U238 from /home/pshriwise/data/xs/openmc/endfb71_hdf5/U238.h5\n",
      " Reading U238 WMP data from\n",
      " /home/pshriwise/data/xs/openmc/endfb71_hdf5/wmp/092238.h5\n",
      " Reading U236 from /home/pshriwise/data/xs/openmc/endfb71_hdf5/U236.h5\n",
      " Reading U236 WMP data from\n",
      " /home/pshriwise/data/xs/openmc/endfb71_hdf5/wmp/092236.h5\n",
      " Reading O16 from /home/pshriwise/data/xs/openmc/endfb71_hdf5/O16.h5\n",
      " Reading O16 WMP data from\n",
      " /home/pshriwise/data/xs/openmc/endfb71_hdf5/wmp/008016.h5\n",
      " Reading O17 from /home/pshriwise/data/xs/openmc/endfb71_hdf5/O17.h5\n",
      " Reading O17 WMP data from\n",
      " /home/pshriwise/data/xs/openmc/endfb71_hdf5/wmp/008017.h5\n",
      " Reading He3 from /home/pshriwise/data/xs/openmc/endfb71_hdf5/He3.h5\n",
      " Reading He3 WMP data from\n",
      " /home/pshriwise/data/xs/openmc/endfb71_hdf5/wmp/002003.h5\n",
      " Reading He4 from /home/pshriwise/data/xs/openmc/endfb71_hdf5/He4.h5\n",
      " Reading He4 WMP data from\n",
      " /home/pshriwise/data/xs/openmc/endfb71_hdf5/wmp/002004.h5\n",
      " Reading Sn112 from /home/pshriwise/data/xs/openmc/endfb71_hdf5/Sn112.h5\n",
      " Reading Sn112 WMP data from\n",
      " /home/pshriwise/data/xs/openmc/endfb71_hdf5/wmp/050112.h5\n",
      " Reading Sn114 from /home/pshriwise/data/xs/openmc/endfb71_hdf5/Sn114.h5\n",
      " Reading Sn114 WMP data from\n",
      " /home/pshriwise/data/xs/openmc/endfb71_hdf5/wmp/050114.h5\n",
      " Reading Sn115 from /home/pshriwise/data/xs/openmc/endfb71_hdf5/Sn115.h5\n",
      " Reading Sn115 WMP data from\n",
      " /home/pshriwise/data/xs/openmc/endfb71_hdf5/wmp/050115.h5\n",
      " Reading Sn116 from /home/pshriwise/data/xs/openmc/endfb71_hdf5/Sn116.h5\n",
      " Reading Sn116 WMP data from\n",
      " /home/pshriwise/data/xs/openmc/endfb71_hdf5/wmp/050116.h5\n",
      " Reading Sn117 from /home/pshriwise/data/xs/openmc/endfb71_hdf5/Sn117.h5\n",
      " Reading Sn117 WMP data from\n",
      " /home/pshriwise/data/xs/openmc/endfb71_hdf5/wmp/050117.h5\n",
      " Reading Sn118 from /home/pshriwise/data/xs/openmc/endfb71_hdf5/Sn118.h5\n",
      " Reading Sn118 WMP data from\n",
      " /home/pshriwise/data/xs/openmc/endfb71_hdf5/wmp/050118.h5\n",
      " Reading Sn119 from /home/pshriwise/data/xs/openmc/endfb71_hdf5/Sn119.h5\n",
      " Reading Sn119 WMP data from\n",
      " /home/pshriwise/data/xs/openmc/endfb71_hdf5/wmp/050119.h5\n",
      " Reading Sn120 from /home/pshriwise/data/xs/openmc/endfb71_hdf5/Sn120.h5\n",
      " Reading Sn120 WMP data from\n",
      " /home/pshriwise/data/xs/openmc/endfb71_hdf5/wmp/050120.h5\n",
      " Reading Sn122 from /home/pshriwise/data/xs/openmc/endfb71_hdf5/Sn122.h5\n",
      " Reading Sn122 WMP data from\n",
      " /home/pshriwise/data/xs/openmc/endfb71_hdf5/wmp/050122.h5\n",
      " Reading Sn124 from /home/pshriwise/data/xs/openmc/endfb71_hdf5/Sn124.h5\n",
      " Reading Sn124 WMP data from\n",
      " /home/pshriwise/data/xs/openmc/endfb71_hdf5/wmp/050124.h5\n",
      " Reading Fe54 from /home/pshriwise/data/xs/openmc/endfb71_hdf5/Fe54.h5\n",
      " Reading Fe54 WMP data from\n",
      " /home/pshriwise/data/xs/openmc/endfb71_hdf5/wmp/026054.h5\n",
      " Reading Fe56 from /home/pshriwise/data/xs/openmc/endfb71_hdf5/Fe56.h5\n",
      " Reading Fe56 WMP data from\n",
      " /home/pshriwise/data/xs/openmc/endfb71_hdf5/wmp/026056.h5\n",
      " Reading Fe57 from /home/pshriwise/data/xs/openmc/endfb71_hdf5/Fe57.h5\n",
      " Reading Fe57 WMP data from\n",
      " /home/pshriwise/data/xs/openmc/endfb71_hdf5/wmp/026057.h5\n",
      " Reading Fe58 from /home/pshriwise/data/xs/openmc/endfb71_hdf5/Fe58.h5\n",
      " Reading Fe58 WMP data from\n",
      " /home/pshriwise/data/xs/openmc/endfb71_hdf5/wmp/026058.h5\n",
      " Reading Cr50 from /home/pshriwise/data/xs/openmc/endfb71_hdf5/Cr50.h5\n",
      " Reading Cr50 WMP data from\n",
      " /home/pshriwise/data/xs/openmc/endfb71_hdf5/wmp/024050.h5\n",
      " Reading Cr52 from /home/pshriwise/data/xs/openmc/endfb71_hdf5/Cr52.h5\n",
      " Reading Cr52 WMP data from\n",
      " /home/pshriwise/data/xs/openmc/endfb71_hdf5/wmp/024052.h5\n",
      " Reading Cr53 from /home/pshriwise/data/xs/openmc/endfb71_hdf5/Cr53.h5\n",
      " Reading Cr53 WMP data from\n",
      " /home/pshriwise/data/xs/openmc/endfb71_hdf5/wmp/024053.h5\n",
      " Reading Cr54 from /home/pshriwise/data/xs/openmc/endfb71_hdf5/Cr54.h5\n",
      " Reading Cr54 WMP data from\n",
      " /home/pshriwise/data/xs/openmc/endfb71_hdf5/wmp/024054.h5\n",
      " Reading Zr90 from /home/pshriwise/data/xs/openmc/endfb71_hdf5/Zr90.h5\n",
      " Reading Zr90 WMP data from\n",
      " /home/pshriwise/data/xs/openmc/endfb71_hdf5/wmp/040090.h5\n",
      " Reading Zr91 from /home/pshriwise/data/xs/openmc/endfb71_hdf5/Zr91.h5\n",
      " Reading Zr91 WMP data from\n",
      " /home/pshriwise/data/xs/openmc/endfb71_hdf5/wmp/040091.h5\n",
      " Reading Zr92 from /home/pshriwise/data/xs/openmc/endfb71_hdf5/Zr92.h5\n",
      " Reading Zr92 WMP data from\n",
      " /home/pshriwise/data/xs/openmc/endfb71_hdf5/wmp/040092.h5\n",
      " Reading Zr94 from /home/pshriwise/data/xs/openmc/endfb71_hdf5/Zr94.h5\n",
      " Reading Zr94 WMP data from\n",
      " /home/pshriwise/data/xs/openmc/endfb71_hdf5/wmp/040094.h5\n",
      " Reading Zr96 from /home/pshriwise/data/xs/openmc/endfb71_hdf5/Zr96.h5\n",
      " Reading Zr96 WMP data from\n",
      " /home/pshriwise/data/xs/openmc/endfb71_hdf5/wmp/040096.h5\n",
      " Reading H1 from /home/pshriwise/data/xs/openmc/endfb71_hdf5/H1.h5\n",
      " Reading H1 WMP data from\n",
      " /home/pshriwise/data/xs/openmc/endfb71_hdf5/wmp/001001.h5\n",
      " Reading H2 from /home/pshriwise/data/xs/openmc/endfb71_hdf5/H2.h5\n",
      " Reading H2 WMP data from\n",
      " /home/pshriwise/data/xs/openmc/endfb71_hdf5/wmp/001002.h5\n",
      " Reading c_H_in_H2O from\n",
      " /home/pshriwise/data/xs/openmc/endfb71_hdf5/c_H_in_H2O.h5\n",
      " Minimum neutron data temperature: 250 K\n",
      " Maximum neutron data temperature: 2500 K\n",
      " Reading tallies XML file...\n",
      " Preparing distributed cell instances...\n",
      " Reading plot XML file...\n",
      " Writing summary.h5 file...\n",
      " Maximum neutron transport energy: 20000000 eV for U235\n",
      " Initializing source particles...\n",
      "\n",
      " ====================>     K EIGENVALUE SIMULATION     <====================\n",
      "\n"
     ]
    }
   ],
   "source": [
    "openmc.lib.init()\n",
    "openmc.lib.simulation_init()"
   ]
  },
  {
   "cell_type": "markdown",
   "metadata": {},
   "source": [
    "There are 10 inactive batches, so we need to run next_batch() at least 10 times before the tally is activated. "
   ]
  },
  {
   "cell_type": "code",
   "execution_count": 12,
   "metadata": {},
   "outputs": [
    {
     "name": "stdout",
     "output_type": "stream",
     "text": [
      "  Bat./Gen.      k            Average k\n",
      "  =========   ========   ====================\n",
      "        1/1    1.23436\n",
      "        2/1    1.26521\n",
      "        3/1    1.22463\n",
      "        4/1    1.27677\n",
      "        5/1    1.23851\n",
      "        6/1    1.28804\n",
      "        7/1    1.26625\n",
      "        8/1    1.28035\n",
      "        9/1    1.28143\n",
      "       10/1    1.25761\n",
      "       11/1    1.27147\n",
      "       12/1    1.27749    1.27448 +/- 0.00301\n",
      "       13/1    1.27870    1.27589 +/- 0.00224\n",
      "       14/1    1.26985    1.27438 +/- 0.00219\n"
     ]
    }
   ],
   "source": [
    "for _ in range(14):\n",
    "    openmc.lib.next_batch()"
   ]
  },
  {
   "cell_type": "markdown",
   "metadata": {},
   "source": [
    "Let's take a look at the tally. There are 10 entries, one for each cell in the fuel."
   ]
  },
  {
   "cell_type": "code",
   "execution_count": 13,
   "metadata": {},
   "outputs": [
    {
     "name": "stdout",
     "output_type": "stream",
     "text": [
      "[[ 3931482.80669347]\n",
      " [ 9131299.17209842]\n",
      " [11481356.26853649]\n",
      " [12467135.97736016]\n",
      " [11306527.77160696]\n",
      " [12652743.75842057]\n",
      " [12641528.78488241]\n",
      " [11430393.02418431]\n",
      " [10539158.01402584]\n",
      " [ 4703235.03712948]]\n"
     ]
    }
   ],
   "source": [
    "t = openmc.lib.tallies[1]\n",
    "print(t.mean)"
   ]
  },
  {
   "cell_type": "markdown",
   "metadata": {},
   "source": [
    "Now, let's make some changes to the temperatures. For this, we need to identify each cell by its id. We can use get_temperature() to compare the temperatures of the cells before and after the change. "
   ]
  },
  {
   "cell_type": "code",
   "execution_count": 14,
   "metadata": {},
   "outputs": [
    {
     "name": "stdout",
     "output_type": "stream",
     "text": [
      "fuel temperature is: \n",
      "799.9999999999999\n",
      "gap temperature is: \n",
      "700.0\n",
      "clad temperature is: \n",
      "600.0\n",
      "water temperature is: \n",
      "500.00000000000006\n"
     ]
    }
   ],
   "source": [
    "print(\"fuel temperature is: \")\n",
    "print(openmc.lib.cells[5].get_temperature())\n",
    "print(\"gap temperature is: \")\n",
    "print(openmc.lib.cells[15].get_temperature())\n",
    "print(\"clad temperature is: \")\n",
    "print(openmc.lib.cells[25].get_temperature())\n",
    "print(\"water temperature is: \")\n",
    "print(openmc.lib.cells[35].get_temperature())"
   ]
  },
  {
   "cell_type": "code",
   "execution_count": 15,
   "metadata": {},
   "outputs": [],
   "source": [
    "for i in range(1, 11):\n",
    "    temp = 900.0\n",
    "    openmc.lib.cells[i].set_temperature(temp)"
   ]
  },
  {
   "cell_type": "code",
   "execution_count": 16,
   "metadata": {},
   "outputs": [
    {
     "name": "stdout",
     "output_type": "stream",
     "text": [
      "fuel temperature is: \n",
      "900.0\n"
     ]
    }
   ],
   "source": [
    "print(\"fuel temperature is: \")\n",
    "print(openmc.lib.cells[5].get_temperature())"
   ]
  },
  {
   "cell_type": "markdown",
   "metadata": {},
   "source": [
    "Let's make a similar change for the water density. Again, we need to identify each material by its id."
   ]
  },
  {
   "cell_type": "code",
   "execution_count": 17,
   "metadata": {},
   "outputs": [],
   "source": [
    "for i in range(4, 14):\n",
    "    density = 0.65\n",
    "    openmc.lib.materials[i].set_density(density, units='g/cm3')"
   ]
  },
  {
   "cell_type": "markdown",
   "metadata": {},
   "source": [
    "The new batches we run will use the new material and cell properties."
   ]
  },
  {
   "cell_type": "code",
   "execution_count": 18,
   "metadata": {},
   "outputs": [
    {
     "name": "stdout",
     "output_type": "stream",
     "text": [
      "       15/1    1.26681    1.27286 +/- 0.00227\n",
      "       16/1    1.22664    1.26516 +/- 0.00792\n",
      "       17/1    1.24385    1.26212 +/- 0.00736\n",
      "       18/1    1.25415    1.26112 +/- 0.00645\n",
      "       19/1    1.28509    1.26378 +/- 0.00628\n",
      "       20/1    1.26223    1.26363 +/- 0.00562\n",
      "       21/1    1.22983    1.26056 +/- 0.00594\n",
      "       22/1    1.25030    1.25970 +/- 0.00549\n",
      "       23/1    1.25071    1.25901 +/- 0.00510\n",
      "       24/1    1.25387    1.25864 +/- 0.00473\n",
      "       25/1    1.24512    1.25774 +/- 0.00450\n",
      "       26/1    1.27716    1.25895 +/- 0.00438\n",
      "       27/1    1.25292    1.25860 +/- 0.00413\n",
      "       28/1    1.27613    1.25957 +/- 0.00401\n"
     ]
    }
   ],
   "source": [
    "for _ in range(14):\n",
    "    openmc.lib.next_batch()"
   ]
  },
  {
   "cell_type": "markdown",
   "metadata": {},
   "source": [
    "When you're ready to end the simulation, use the following:"
   ]
  },
  {
   "cell_type": "code",
   "execution_count": 19,
   "metadata": {},
   "outputs": [
    {
     "name": "stdout",
     "output_type": "stream",
     "text": [
      "\n",
      " =======================>     TIMING STATISTICS     <=======================\n",
      "\n",
      " Total time for initialization     = 2.9988e+01 seconds\n",
      "   Reading cross sections          = 2.9972e+01 seconds\n",
      " Total time in simulation          = 1.3853e+02 seconds\n",
      "   Time in transport only          = 1.3841e+02 seconds\n",
      "   Time in inactive batches        = 4.4211e+01 seconds\n",
      "   Time in active batches          = 9.4319e+01 seconds\n",
      "   Time synchronizing fission bank = 2.2818e-02 seconds\n",
      "     Sampling source sites         = 2.1518e-02 seconds\n",
      "     SEND/RECV source sites        = 1.2778e-03 seconds\n",
      "   Time accumulating tallies       = 1.2354e-04 seconds\n",
      "   Time writing statepoints        = 0.0000e+00 seconds\n",
      " Total time for finalization       = 2.0531e-04 seconds\n",
      " Total time elapsed                = 2.9988e+01 seconds\n",
      " Calculation Rate (inactive)       = 2261.88 particles/second\n",
      " Calculation Rate (active)         = 1908.41 particles/second\n",
      "\n",
      " ============================>     RESULTS     <============================\n",
      "\n",
      " k-effective (Collision)     = 1.26047 +/- 0.00360\n",
      " k-effective (Track-length)  = 1.25957 +/- 0.00401\n",
      " k-effective (Absorption)    = 1.26095 +/- 0.00280\n",
      " Combined k-effective        = 1.26075 +/- 0.00292\n",
      " Leakage Fraction            = 0.00915 +/- 0.00032\n",
      "\n"
     ]
    }
   ],
   "source": [
    "openmc.lib.simulation_finalize()\n",
    "openmc.lib.finalize()"
   ]
  }
 ],
 "metadata": {
  "kernelspec": {
   "display_name": "Python 3 (ipykernel)",
   "language": "python",
   "name": "python3"
  },
  "language_info": {
   "codemirror_mode": {
    "name": "ipython",
    "version": 3
   },
   "file_extension": ".py",
   "mimetype": "text/x-python",
   "name": "python",
   "nbconvert_exporter": "python",
   "pygments_lexer": "ipython3",
   "version": "3.9.1"
  }
 },
 "nbformat": 4,
 "nbformat_minor": 4
}
