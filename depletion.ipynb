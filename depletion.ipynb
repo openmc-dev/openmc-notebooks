{
 "cells": [
  {
   "cell_type": "markdown",
   "metadata": {},
   "source": [
    "# Depletion\n",
    "This notebook is intended to introduce the reader to the depletion interface contained in OpenMC. It is recommended that you are moderately familiar with building models using the OpenMC Python API. The earlier examples are excellent starting points, as this notebook will not focus heavily on model building.\n",
    "\n",
    "If you have a real power reactor, the fuel composition is constantly changing as fission events produce energy, remove some fissile isotopes, and produce fission products. Other reactions, like $(n, \\alpha)$ and $(n, \\gamma)$ will alter the composition as well. Furthermore, some nuclides undergo spontaneous decay with widely ranging frequencies. Depletion is the process of modeling this behavior.\n",
    "\n",
    "In this notebook, we will model a simple fuel pin in an infinite lattice using the Python API. We will then build and examine some of the necessary components for performing depletion analysis. Then, we will use the depletion interface in OpenMC to simulate the fuel pin producing power over several months. Lastly, we will wrap up with some helpful tips to improve the fidelity of depletion simulations."
   ]
  },
  {
   "cell_type": "code",
   "execution_count": 1,
   "metadata": {},
   "outputs": [],
   "source": [
    "%matplotlib inline\n",
    "import math\n",
    "import openmc"
   ]
  },
  {
   "cell_type": "markdown",
   "metadata": {},
   "source": [
    "## Build the Geometry\n",
    "\n",
    "Much of this section is borrowed from the \"Modeling a Pin-Cell\" example. If you find yourself not understanding some aspects of this section, feel free to refer to that example, as some details may be glossed over for brevity.\n",
    "\n",
    "First, we will create our fuel, cladding, and water materials to represent a typical PWR."
   ]
  },
  {
   "cell_type": "code",
   "execution_count": 2,
   "metadata": {},
   "outputs": [],
   "source": [
    "fuel = openmc.Material(name=\"uo2\")\n",
    "fuel.add_element(\"U\", 1, percent_type=\"ao\", enrichment=4.25)\n",
    "fuel.add_element(\"O\", 2)\n",
    "fuel.set_density(\"g/cc\", 10.4)\n",
    "\n",
    "clad = openmc.Material(name=\"clad\")\n",
    "clad.add_element(\"Zr\", 1)\n",
    "clad.set_density(\"g/cc\", 6)\n",
    "\n",
    "water = openmc.Material(name=\"water\")\n",
    "water.add_element(\"O\", 1)\n",
    "water.add_element(\"H\", 2)\n",
    "water.set_density(\"g/cc\", 1.0)\n",
    "water.add_s_alpha_beta(\"c_H_in_H2O\")\n",
    "materials = openmc.Materials([fuel, clad, water])"
   ]
  },
  {
   "cell_type": "markdown",
   "metadata": {},
   "source": [
    "Here, we are going to use the `openmc.model.pin` function to build our pin cell. The `pin` function anticipates concentric cylinders and materials to fill the inner regions. One additional material is needed than the number of cylinders to cover the domain outside the final ring. \n",
    "\n",
    "To do this, we define two radii for the outer radius of our fuel pin, and the outer radius of the cladding."
   ]
  },
  {
   "cell_type": "code",
   "execution_count": 3,
   "metadata": {},
   "outputs": [],
   "source": [
    "radii = [0.42, 0.45]"
   ]
  },
  {
   "cell_type": "markdown",
   "metadata": {},
   "source": [
    "Using these radii, we define concentric `ZCylinder` objects. So long as the cylinders are concentric and increasing in radius, any orientation can be used. We also take advantage of the fact that the `openmc.Materials` object is a subclass of the `list` object to assign materials to the regions defined by the surfaces."
   ]
  },
  {
   "cell_type": "code",
   "execution_count": 4,
   "metadata": {},
   "outputs": [],
   "source": [
    "pin_surfaces = [openmc.ZCylinder(r=r) for r in radii]\n",
    "pin_univ = openmc.model.pin(pin_surfaces, materials)"
   ]
  },
  {
   "cell_type": "markdown",
   "metadata": {},
   "source": [
    "The first material, in our case `fuel`, is placed inside the first cylinder in the inner-most region. The second material, `clad`, fills the space between our cylinders, while `water` is placed outside the last ring. The `pin` function returns an `openmc.Universe` object, and has some additional features we will mention later. Finally, we need to place the fuel pin universe in a bounding cell."
   ]
  },
  {
   "cell_type": "code",
   "execution_count": 5,
   "metadata": {},
   "outputs": [],
   "source": [
    "bound_box = openmc.rectangular_prism(1.24, 1.24, boundary_type=\"reflective\")\n",
    "root_cell = openmc.Cell(fill=pin_univ, region=bound_box)\n",
    "geometry = openmc.Geometry([root_cell])"
   ]
  },
  {
   "cell_type": "markdown",
   "metadata": {},
   "source": [
    "To ensure our geometry looks right, let's plot it."
   ]
  },
  {
   "cell_type": "code",
   "execution_count": 6,
   "metadata": {},
   "outputs": [
    {
     "data": {
      "text/plain": [
       "<matplotlib.image.AxesImage at 0x7f8a97aecf70>"
      ]
     },
     "execution_count": 6,
     "metadata": {},
     "output_type": "execute_result"
    },
    {
     "data": {
      "image/png": "[encoded data removed]",
      "text/plain": [
       "<Figure size 258.065x264.901 with 1 Axes>"
      ]
     },
     "metadata": {
      "needs_background": "light"
     },
     "output_type": "display_data"
    }
   ],
   "source": [
    "geometry.root_universe.plot()"
   ]
  },
  {
   "cell_type": "markdown",
   "metadata": {},
   "source": [
    "Lastly we construct our settings. For the sake of time, a relatively low number of particles will be used."
   ]
  },
  {
   "cell_type": "code",
   "execution_count": 7,
   "metadata": {},
   "outputs": [],
   "source": [
    "settings = openmc.Settings()\n",
    "settings.particles = 1000\n",
    "settings.inactive = 10\n",
    "settings.batches = 50"
   ]
  },
  {
   "cell_type": "markdown",
   "metadata": {},
   "source": [
    "The depletion interface relies on `OpenMC` to perform the transport simulation and obtain reaction rates and other important information. Normally, we would need to export XML files before running OpenMC, but the depletion interface takes care of this for us."
   ]
  },
  {
   "cell_type": "markdown",
   "metadata": {},
   "source": [
    "However, we must first add one bit of information: the volume of our fuel. In order to translate the reaction rates obtained by `openmc` to meaningful units for depletion, we have to normalize them to a correct power. This requires us to know, or be able to calculate, how much fuel is in our problem. Correctly setting the volumes is a critical step, and can lead to incorrect answers, as the fuel is over- or under-depleted due to poor normalization.\n",
    "\n",
    "For our problem, we can assign the \"volume\" to be the cross-sectional area of our fuel. This is identical to modeling our fuel pin inside a box with height of 1 cm."
   ]
  },
  {
   "cell_type": "code",
   "execution_count": 8,
   "metadata": {},
   "outputs": [],
   "source": [
    "fuel.volume = math.pi * radii[0] ** 2"
   ]
  },
  {
   "cell_type": "markdown",
   "metadata": {},
   "source": [
    "## Setting up for depletion\n",
    "\n",
    "The OpenMC depletion interface can be accessed from the `openmc.deplete` module, and has a variety of classes that will help us."
   ]
  },
  {
   "cell_type": "code",
   "execution_count": 9,
   "metadata": {},
   "outputs": [],
   "source": [
    "import openmc.deplete"
   ]
  },
  {
   "cell_type": "markdown",
   "metadata": {},
   "source": [
    "In order to run the depletion calculation we need the following information:\n",
    "\n",
    "1. Nuclide decay, fission yield, and reaction data\n",
    "2. Operational power or power density\n",
    "3. Desired depletion schedule\n",
    "4. Desired time integration scheme\n",
    "\n",
    "The first item is necessary to determine the paths by which nuclides transmute over the depletion simulation. This includes spontaneous decay, fission product yield distributions, and nuclides produced through neutron-reactions. For example,\n",
    "* Te129 decays to I129 with a half life of ~70 minutes\n",
    "* A fission event for U-235 produces fission products like Xe135 according to a distribution\n",
    "* For thermal problems, Am241 will produce metastable Am242 about 8% of the time during an $(n,\\gamma)$ reaction. The other 92% of capture reactions will produce ground state Am242\n",
    "\n",
    "These data are often distributed with other nuclear data, like incident neutron cross sections with ENDF/B-VII.\n",
    "OpenMC uses the [`openmc.deplete.Chain`](https://docs.openmc.org/en/latest/pythonapi/generated/openmc.deplete.Chain.html#openmc.deplete.Chain) to collect represent the various decay and transmutation pathways in a single object.\n",
    "While a complete `Chain` can be created using nuclear data files, users may prefer to download pre-generated XML-representations instead.\n",
    "Such files can be found at https://openmc.org/depletion-chains/ and include full and compressed chains, with capture branching ratios derived using PWR- or SFR-spectra.\n",
    "\n",
    "For this problem, we will be using a much smaller depletion chain that contains very few nuclides. In a realistic problem, over 1000 isotopes may be included in the depletion chain."
   ]
  },
  {
   "cell_type": "code",
   "execution_count": 10,
   "metadata": {},
   "outputs": [
    {
     "data": {
      "text/plain": [
       "OrderedDict([('I135', 0),\n",
       "             ('Xe135', 1),\n",
       "             ('Xe136', 2),\n",
       "             ('Cs135', 3),\n",
       "             ('Gd157', 4),\n",
       "             ('Gd156', 5),\n",
       "             ('U234', 6),\n",
       "             ('U235', 7),\n",
       "             ('U238', 8)])"
      ]
     },
     "execution_count": 10,
     "metadata": {},
     "output_type": "execute_result"
    }
   ],
   "source": [
    "chain = openmc.deplete.Chain.from_xml(\"./chain_simple.xml\")\n",
    "chain.nuclide_dict"
   ]
  },
  {
   "cell_type": "markdown",
   "metadata": {},
   "source": [
    "The primary entry point for depletion is the `openmc.deplete.Operator`. It relies on the `openmc.deplete.Chain` and helper classes to run `openmc`, retrieve and normalize reaction rates, and other perform other tasks. For a thorough description, please see the full API documentation."
   ]
  },
  {
   "cell_type": "markdown",
   "metadata": {},
   "source": [
    "We will create our Operator using the geometry and settings from above, and our simple chain file. The materials are read in automatically using the `materials.xml` file."
   ]
  },
  {
   "cell_type": "code",
   "execution_count": 11,
   "metadata": {},
   "outputs": [],
   "source": [
    "model = openmc.Model(geometry=geometry, settings=settings)\n",
    "operator = openmc.deplete.CoupledOperator(model, \"./chain_simple.xml\")"
   ]
  },
  {
   "cell_type": "raw",
   "metadata": {},
   "source": [
    "We will then simulate our fuel pin operating at linear power of 174 W/cm, or 174 W given a unit height for our problem."
   ]
  },
  {
   "cell_type": "code",
   "execution_count": 12,
   "metadata": {},
   "outputs": [],
   "source": [
    "power = 174"
   ]
  },
  {
   "cell_type": "markdown",
   "metadata": {},
   "source": [
    "For this problem, we will take depletion step sizes of 30 days, and instruct OpenMC to re-run a transport simulation every 30 days until we have modeled the problem over a six month cycle. The depletion interface expects the time to be given in seconds, so we will have to convert. Note that these values are not cumulative."
   ]
  },
  {
   "cell_type": "code",
   "execution_count": 13,
   "metadata": {},
   "outputs": [],
   "source": [
    "time_steps = [30] * 6"
   ]
  },
  {
   "cell_type": "markdown",
   "metadata": {},
   "source": [
    "And lastly, we will use the basic predictor, or forward Euler, time integration scheme. Other, more advanced methods are provided to the user through `openmc.deplete`"
   ]
  },
  {
   "cell_type": "code",
   "execution_count": 14,
   "metadata": {},
   "outputs": [],
   "source": [
    "integrator = openmc.deplete.PredictorIntegrator(operator, time_steps, power, timestep_units='d')"
   ]
  },
  {
   "cell_type": "markdown",
   "metadata": {},
   "source": [
    "To perform the simulation, we use the `integrate` method, and let `openmc` take care of the rest."
   ]
  },
  {
   "cell_type": "code",
   "execution_count": 15,
   "metadata": {},
   "outputs": [
    {
     "name": "stdout",
     "output_type": "stream",
     "text": [
      "                                %%%%%%%%%%%%%%%\n",
      "                           %%%%%%%%%%%%%%%%%%%%%%%%\n",
      "                        %%%%%%%%%%%%%%%%%%%%%%%%%%%%%%\n",
      "                      %%%%%%%%%%%%%%%%%%%%%%%%%%%%%%%%%%\n",
      "                    %%%%%%%%%%%%%%%%%%%%%%%%%%%%%%%%%%%%%%\n",
      "                   %%%%%%%%%%%%%%%%%%%%%%%%%%%%%%%%%%%%%%%%\n",
      "                                    %%%%%%%%%%%%%%%%%%%%%%%%\n",
      "                                     %%%%%%%%%%%%%%%%%%%%%%%%\n",
      "                 ###############      %%%%%%%%%%%%%%%%%%%%%%%%\n",
      "                ##################     %%%%%%%%%%%%%%%%%%%%%%%\n",
      "                ###################     %%%%%%%%%%%%%%%%%%%%%%%\n",
      "                ####################     %%%%%%%%%%%%%%%%%%%%%%\n",
      "                #####################     %%%%%%%%%%%%%%%%%%%%%\n",
      "                ######################     %%%%%%%%%%%%%%%%%%%%\n",
      "                #######################     %%%%%%%%%%%%%%%%%%\n",
      "                 #######################     %%%%%%%%%%%%%%%%%\n",
      "                 ######################     %%%%%%%%%%%%%%%%%\n",
      "                  ####################     %%%%%%%%%%%%%%%%%\n",
      "                    #################     %%%%%%%%%%%%%%%%%\n",
      "                     ###############     %%%%%%%%%%%%%%%%\n",
      "                       ############     %%%%%%%%%%%%%%%\n",
      "                          ########     %%%%%%%%%%%%%%\n",
      "                                      %%%%%%%%%%%\n",
      "\n",
      "                 | The OpenMC Monte Carlo Code\n",
      "       Copyright | 2011-2022 MIT, UChicago Argonne LLC, and contributors\n",
      "         License | https://docs.openmc.org/en/latest/license.html\n",
      "         Version | 0.13.1\n",
      "        Git SHA1 | 33bc948f4b855c037975f16d16091fe4ecd12de3\n",
      "       Date/Time | 2022-10-05 19:02:05\n",
      "  OpenMP Threads | 2\n",
      "\n",
      " Reading settings XML file...\n",
      " Reading cross sections XML file...\n",
      " Reading materials XML file...\n",
      " Reading geometry XML file...\n",
      " Reading U234 from /home/pshriwise/data/xs/openmc/nndc_hdf5/U234.h5\n",
      " Reading U235 from /home/pshriwise/data/xs/openmc/nndc_hdf5/U235.h5\n",
      " Reading U238 from /home/pshriwise/data/xs/openmc/nndc_hdf5/U238.h5\n",
      " Reading O16 from /home/pshriwise/data/xs/openmc/nndc_hdf5/O16.h5\n",
      " Reading O17 from /home/pshriwise/data/xs/openmc/nndc_hdf5/O17.h5\n",
      " Reading U236 from /home/pshriwise/data/xs/openmc/nndc_hdf5/U236.h5\n",
      " Reading Zr90 from /home/pshriwise/data/xs/openmc/nndc_hdf5/Zr90.h5\n",
      " Reading Zr91 from /home/pshriwise/data/xs/openmc/nndc_hdf5/Zr91.h5\n",
      " Reading Zr92 from /home/pshriwise/data/xs/openmc/nndc_hdf5/Zr92.h5\n",
      " Reading Zr94 from /home/pshriwise/data/xs/openmc/nndc_hdf5/Zr94.h5\n",
      " Reading Zr96 from /home/pshriwise/data/xs/openmc/nndc_hdf5/Zr96.h5\n",
      " Reading H1 from /home/pshriwise/data/xs/openmc/nndc_hdf5/H1.h5\n",
      " Reading H2 from /home/pshriwise/data/xs/openmc/nndc_hdf5/H2.h5\n",
      " Reading c_H_in_H2O from /home/pshriwise/data/xs/openmc/nndc_hdf5/c_H_in_H2O.h5\n",
      " Minimum neutron data temperature: 294 K\n",
      " Maximum neutron data temperature: 294 K\n",
      " Preparing distributed cell instances...\n",
      " Reading plot XML file...\n",
      " Writing summary.h5 file...\n",
      "[openmc.deplete] t=0.0 s, dt=2592000 s, source=174\n",
      " Reading I135 from /home/pshriwise/data/xs/openmc/nndc_hdf5/I135.h5\n",
      " Reading Xe135 from /home/pshriwise/data/xs/openmc/nndc_hdf5/Xe135.h5\n",
      " Reading Xe136 from /home/pshriwise/data/xs/openmc/nndc_hdf5/Xe136.h5\n",
      " Reading Cs135 from /home/pshriwise/data/xs/openmc/nndc_hdf5/Cs135.h5\n",
      " Reading Gd157 from /home/pshriwise/data/xs/openmc/nndc_hdf5/Gd157.h5\n",
      " Reading Gd156 from /home/pshriwise/data/xs/openmc/nndc_hdf5/Gd156.h5\n",
      " Maximum neutron transport energy: 20000000 eV for U235\n",
      " Initializing source particles...\n",
      "\n",
      " ====================>     K EIGENVALUE SIMULATION     <====================\n",
      "\n",
      "  Bat./Gen.      k            Average k\n",
      "  =========   ========   ====================\n",
      "        1/1    1.49721\n",
      "        2/1    1.49226\n",
      "        3/1    1.44838\n",
      "        4/1    1.47163\n",
      "        5/1    1.41429\n",
      "        6/1    1.42100\n",
      "        7/1    1.43656\n",
      "        8/1    1.41211\n",
      "        9/1    1.45570\n",
      "       10/1    1.33919\n",
      "       11/1    1.47822\n",
      "       12/1    1.47425    1.47624 +/- 0.00198\n",
      "       13/1    1.39919    1.45056 +/- 0.02571\n",
      "       14/1    1.35785    1.42738 +/- 0.02946\n",
      "       15/1    1.38972    1.41985 +/- 0.02403\n",
      "       16/1    1.47812    1.42956 +/- 0.02189\n",
      "       17/1    1.50905    1.44092 +/- 0.02171\n",
      "       18/1    1.48299    1.44618 +/- 0.01952\n",
      "       19/1    1.49089    1.45114 +/- 0.01792\n",
      "       20/1    1.50543    1.45657 +/- 0.01692\n",
      "       21/1    1.41183    1.45251 +/- 0.01584\n",
      "       22/1    1.49487    1.45604 +/- 0.01488\n",
      "       23/1    1.45853    1.45623 +/- 0.01369\n",
      "       24/1    1.45628    1.45623 +/- 0.01268\n",
      "       25/1    1.37824    1.45103 +/- 0.01290\n",
      "       26/1    1.40298    1.44803 +/- 0.01243\n",
      "       27/1    1.48608    1.45027 +/- 0.01189\n",
      "       28/1    1.46773    1.45124 +/- 0.01125\n",
      "       29/1    1.46127    1.45177 +/- 0.01066\n",
      "       30/1    1.38587    1.44847 +/- 0.01063\n",
      "       31/1    1.42115    1.44717 +/- 0.01020\n",
      "       32/1    1.45934    1.44772 +/- 0.00974\n",
      "       33/1    1.40481    1.44586 +/- 0.00949\n",
      "       34/1    1.47602    1.44711 +/- 0.00917\n",
      "       35/1    1.47601    1.44827 +/- 0.00887\n",
      "       36/1    1.44354    1.44809 +/- 0.00853\n",
      "       37/1    1.54954    1.45185 +/- 0.00902\n",
      "       38/1    1.46876    1.45245 +/- 0.00872\n",
      "       39/1    1.51863    1.45473 +/- 0.00872\n",
      "       40/1    1.51529    1.45675 +/- 0.00866\n",
      "       41/1    1.39841    1.45487 +/- 0.00858\n",
      "       42/1    1.58314    1.45888 +/- 0.00923\n",
      "       43/1    1.51678    1.46063 +/- 0.00911\n",
      "       44/1    1.44328    1.46012 +/- 0.00886\n",
      "       45/1    1.42208    1.45903 +/- 0.00867\n",
      "       46/1    1.50118    1.46020 +/- 0.00850\n",
      "       47/1    1.50796    1.46150 +/- 0.00837\n",
      "       48/1    1.44889    1.46116 +/- 0.00816\n",
      "       49/1    1.48715    1.46183 +/- 0.00797\n",
      "       50/1    1.49559    1.46267 +/- 0.00782\n",
      " Creating state point statepoint.50.h5...\n",
      "\n",
      " =======================>     TIMING STATISTICS     <=======================\n",
      "\n",
      " Total time for initialization     = 1.1968e+00 seconds\n",
      "   Reading cross sections          = 1.1906e+00 seconds\n",
      " Total time in simulation          = 1.3040e+01 seconds\n",
      "   Time in transport only          = 1.3031e+01 seconds\n",
      "   Time in inactive batches        = 2.2501e+00 seconds\n",
      "   Time in active batches          = 1.0790e+01 seconds\n",
      "   Time synchronizing fission bank = 4.3167e-03 seconds\n",
      "     Sampling source sites         = 3.9236e-03 seconds\n",
      "     SEND/RECV source sites        = 3.6606e-04 seconds\n",
      "   Time accumulating tallies       = 2.4592e-04 seconds\n",
      "   Time writing statepoints        = 1.4237e-03 seconds\n",
      " Total time for finalization       = 5.2430e-05 seconds\n",
      " Total time elapsed                = 1.4251e+01 seconds\n",
      " Calculation Rate (inactive)       = 4444.21 particles/second\n",
      " Calculation Rate (active)         = 3707.27 particles/second\n",
      "\n",
      " ============================>     RESULTS     <============================\n",
      "\n",
      " k-effective (Collision)     = 1.46857 +/- 0.00652\n",
      " k-effective (Track-length)  = 1.46267 +/- 0.00782\n",
      " k-effective (Absorption)    = 1.46527 +/- 0.00455\n",
      " Combined k-effective        = 1.46478 +/- 0.00392\n",
      " Leakage Fraction            = 0.00000 +/- 0.00000\n",
      "\n",
      " Creating state point openmc_simulation_n0.h5...\n",
      "[openmc.deplete] t=2592000.0 s, dt=2592000 s, source=174\n",
      " Maximum neutron transport energy: 20000000 eV for U235\n",
      " Initializing source particles...\n",
      "\n",
      " ====================>     K EIGENVALUE SIMULATION     <====================\n",
      "\n",
      "  Bat./Gen.      k            Average k\n",
      "  =========   ========   ====================\n",
      "        1/1    1.53241\n",
      "        2/1    1.40513\n",
      "        3/1    1.45199\n",
      "        4/1    1.48296\n",
      "        5/1    1.45516\n",
      "        6/1    1.49568\n",
      "        7/1    1.41651\n",
      "        8/1    1.41637\n",
      "        9/1    1.41213\n",
      "       10/1    1.43048\n",
      "       11/1    1.43207\n",
      "       12/1    1.51388    1.47297 +/- 0.04091\n",
      "       13/1    1.44591    1.46395 +/- 0.02528\n",
      "       14/1    1.50325    1.47378 +/- 0.02040\n",
      "       15/1    1.44463    1.46795 +/- 0.01684\n",
      "       16/1    1.45528    1.46583 +/- 0.01391\n",
      "       17/1    1.39473    1.45568 +/- 0.01554\n",
      "       18/1    1.41153    1.45016 +/- 0.01454\n",
      "       19/1    1.36173    1.44033 +/- 0.01616\n",
      "       20/1    1.48965    1.44527 +/- 0.01527\n",
      "       21/1    1.42710    1.44361 +/- 0.01391\n",
      "       22/1    1.41558    1.44128 +/- 0.01291\n",
      "       23/1    1.39316    1.43758 +/- 0.01244\n",
      "       24/1    1.46698    1.43968 +/- 0.01171\n",
      "       25/1    1.42137    1.43846 +/- 0.01097\n",
      "       26/1    1.44859    1.43909 +/- 0.01028\n",
      "       27/1    1.39159    1.43630 +/- 0.01005\n",
      "       28/1    1.51030    1.44041 +/- 0.01033\n",
      "       29/1    1.58514    1.44802 +/- 0.01239\n",
      "       30/1    1.33291    1.44227 +/- 0.01309\n",
      "       31/1    1.38694    1.43963 +/- 0.01272\n",
      "       32/1    1.46008    1.44056 +/- 0.01217\n",
      "       33/1    1.39234    1.43847 +/- 0.01181\n",
      "       34/1    1.40957    1.43726 +/- 0.01138\n",
      "       35/1    1.47587    1.43881 +/- 0.01102\n",
      "       36/1    1.43015    1.43847 +/- 0.01059\n",
      "       37/1    1.38802    1.43661 +/- 0.01036\n",
      "       38/1    1.33953    1.43314 +/- 0.01057\n",
      "       39/1    1.48062    1.43478 +/- 0.01033\n",
      "       40/1    1.44053    1.43497 +/- 0.00998\n",
      "       41/1    1.46435    1.43592 +/- 0.00970\n",
      "       42/1    1.49916    1.43789 +/- 0.00960\n",
      "       43/1    1.46589    1.43874 +/- 0.00934\n",
      "       44/1    1.40238    1.43767 +/- 0.00913\n",
      "       45/1    1.44733    1.43795 +/- 0.00887\n",
      "       46/1    1.35951    1.43577 +/- 0.00889\n",
      "       47/1    1.45303    1.43623 +/- 0.00866\n",
      "       48/1    1.43982    1.43633 +/- 0.00843\n",
      "       49/1    1.53025    1.43874 +/- 0.00855\n",
      "       50/1    1.45253    1.43908 +/- 0.00834\n",
      " Creating state point statepoint.50.h5...\n",
      "\n",
      " =======================>     TIMING STATISTICS     <=======================\n",
      "\n",
      " Total time for initialization     = 0.0000e+00 seconds\n",
      "   Reading cross sections          = 0.0000e+00 seconds\n",
      " Total time in simulation          = 1.2879e+01 seconds\n",
      "   Time in transport only          = 1.2870e+01 seconds\n",
      "   Time in inactive batches        = 2.1932e+00 seconds\n",
      "   Time in active batches          = 1.0686e+01 seconds\n",
      "   Time synchronizing fission bank = 4.6210e-03 seconds\n",
      "     Sampling source sites         = 4.2406e-03 seconds\n",
      "     SEND/RECV source sites        = 3.5471e-04 seconds\n",
      "   Time accumulating tallies       = 2.2210e-04 seconds\n",
      "   Time writing statepoints        = 2.5594e-03 seconds\n",
      " Total time for finalization       = 5.4901e-05 seconds\n",
      " Total time elapsed                = 1.2893e+01 seconds\n",
      " Calculation Rate (inactive)       = 4559.54 particles/second\n",
      " Calculation Rate (active)         = 3743.15 particles/second\n",
      "\n",
      " ============================>     RESULTS     <============================\n",
      "\n",
      " k-effective (Collision)     = 1.43941 +/- 0.00730\n",
      " k-effective (Track-length)  = 1.43908 +/- 0.00834\n",
      " k-effective (Absorption)    = 1.43889 +/- 0.00475\n",
      " Combined k-effective        = 1.43891 +/- 0.00466\n",
      " Leakage Fraction            = 0.00000 +/- 0.00000\n",
      "\n",
      " Creating state point openmc_simulation_n1.h5...\n",
      "[openmc.deplete] t=5184000.0 s, dt=2592000 s, source=174\n",
      " Maximum neutron transport energy: 20000000 eV for U235\n",
      " Initializing source particles...\n",
      "\n",
      " ====================>     K EIGENVALUE SIMULATION     <====================\n",
      "\n",
      "  Bat./Gen.      k            Average k\n",
      "  =========   ========   ====================\n",
      "        1/1    1.35648\n",
      "        2/1    1.41942\n",
      "        3/1    1.36608\n",
      "        4/1    1.46674\n",
      "        5/1    1.47455\n",
      "        6/1    1.40320\n",
      "        7/1    1.36282\n",
      "        8/1    1.41123\n",
      "        9/1    1.45872\n",
      "       10/1    1.43235\n",
      "       11/1    1.43551\n",
      "       12/1    1.42639    1.43095 +/- 0.00456\n",
      "       13/1    1.38410    1.41533 +/- 0.01584\n",
      "       14/1    1.40010    1.41152 +/- 0.01183\n",
      "       15/1    1.45122    1.41946 +/- 0.01212\n",
      "       16/1    1.46395    1.42688 +/- 0.01237\n",
      "       17/1    1.50374    1.43786 +/- 0.01516\n",
      "       18/1    1.41657    1.43520 +/- 0.01340\n",
      "       19/1    1.39988    1.43127 +/- 0.01245\n",
      "       20/1    1.48773    1.43692 +/- 0.01248\n",
      "       21/1    1.50428    1.44304 +/- 0.01285\n",
      "       22/1    1.40603    1.43996 +/- 0.01213\n",
      "       23/1    1.44173    1.44009 +/- 0.01115\n",
      "       24/1    1.47605    1.44266 +/- 0.01064\n",
      "       25/1    1.41864    1.44106 +/- 0.01004\n",
      "       26/1    1.42455    1.44003 +/- 0.00944\n",
      "       27/1    1.43444    1.43970 +/- 0.00888\n",
      "       28/1    1.39999    1.43749 +/- 0.00866\n",
      "       29/1    1.45318    1.43832 +/- 0.00823\n",
      "       30/1    1.46514    1.43966 +/- 0.00792\n",
      "       31/1    1.49160    1.44213 +/- 0.00793\n",
      "       32/1    1.34013    1.43750 +/- 0.00887\n",
      "       33/1    1.48829    1.43971 +/- 0.00876\n",
      "       34/1    1.47141    1.44103 +/- 0.00849\n",
      "       35/1    1.39193    1.43906 +/- 0.00838\n",
      "       36/1    1.39036    1.43719 +/- 0.00826\n",
      "       37/1    1.44249    1.43739 +/- 0.00795\n",
      "       38/1    1.48357    1.43904 +/- 0.00784\n",
      "       39/1    1.40641    1.43791 +/- 0.00765\n",
      "       40/1    1.42094    1.43734 +/- 0.00741\n",
      "       41/1    1.40773    1.43639 +/- 0.00723\n",
      "       42/1    1.45978    1.43712 +/- 0.00704\n",
      "       43/1    1.42308    1.43669 +/- 0.00683\n",
      "       44/1    1.47645    1.43786 +/- 0.00673\n",
      "       45/1    1.51314    1.44001 +/- 0.00688\n",
      "       46/1    1.48159    1.44117 +/- 0.00679\n",
      "       47/1    1.48586    1.44238 +/- 0.00671\n",
      "       48/1    1.38670    1.44091 +/- 0.00669\n",
      "       49/1    1.53726    1.44338 +/- 0.00697\n",
      "       50/1    1.44556    1.44344 +/- 0.00680\n",
      " Creating state point statepoint.50.h5...\n",
      "\n",
      " =======================>     TIMING STATISTICS     <=======================\n",
      "\n",
      " Total time for initialization     = 0.0000e+00 seconds\n",
      "   Reading cross sections          = 0.0000e+00 seconds\n",
      " Total time in simulation          = 1.2995e+01 seconds\n",
      "   Time in transport only          = 1.2986e+01 seconds\n",
      "   Time in inactive batches        = 2.2152e+00 seconds\n",
      "   Time in active batches          = 1.0780e+01 seconds\n",
      "   Time synchronizing fission bank = 4.3730e-03 seconds\n",
      "     Sampling source sites         = 3.9823e-03 seconds\n",
      "     SEND/RECV source sites        = 3.6477e-04 seconds\n",
      "   Time accumulating tallies       = 2.3376e-04 seconds\n",
      "   Time writing statepoints        = 2.6625e-03 seconds\n",
      " Total time for finalization       = 6.8176e-03 seconds\n",
      " Total time elapsed                = 1.3016e+01 seconds\n",
      " Calculation Rate (inactive)       = 4514.3 particles/second\n",
      " Calculation Rate (active)         = 3710.67 particles/second\n",
      "\n",
      " ============================>     RESULTS     <============================\n",
      "\n",
      " k-effective (Collision)     = 1.43781 +/- 0.00627\n",
      " k-effective (Track-length)  = 1.44344 +/- 0.00680\n",
      " k-effective (Absorption)    = 1.43243 +/- 0.00527\n",
      " Combined k-effective        = 1.43604 +/- 0.00493\n",
      " Leakage Fraction            = 0.00000 +/- 0.00000\n",
      "\n",
      " Creating state point openmc_simulation_n2.h5...\n",
      "[openmc.deplete] t=7776000.0 s, dt=2592000 s, source=174\n",
      " Maximum neutron transport energy: 20000000 eV for U235\n",
      " Initializing source particles...\n",
      "\n",
      " ====================>     K EIGENVALUE SIMULATION     <====================\n",
      "\n",
      "  Bat./Gen.      k            Average k\n",
      "  =========   ========   ====================\n",
      "        1/1    1.52145\n",
      "        2/1    1.45763\n",
      "        3/1    1.38715\n",
      "        4/1    1.49491\n",
      "        5/1    1.45451\n",
      "        6/1    1.41857\n",
      "        7/1    1.36661\n",
      "        8/1    1.35323\n",
      "        9/1    1.32219\n",
      "       10/1    1.45559\n",
      "       11/1    1.56651\n",
      "       12/1    1.37746    1.47198 +/- 0.09452\n",
      "       13/1    1.41360    1.45252 +/- 0.05794\n",
      "       14/1    1.46543    1.45575 +/- 0.04110\n",
      "       15/1    1.36700    1.43800 +/- 0.03645\n",
      "       16/1    1.41995    1.43499 +/- 0.02991\n",
      "       17/1    1.48070    1.44152 +/- 0.02611\n",
      "       18/1    1.46150    1.44402 +/- 0.02275\n",
      "       19/1    1.34499    1.43302 +/- 0.02288\n",
      "       20/1    1.47485    1.43720 +/- 0.02089\n",
      "       21/1    1.50424    1.44329 +/- 0.01985\n",
      "       22/1    1.41394    1.44085 +/- 0.01829\n",
      "       23/1    1.43248    1.44020 +/- 0.01683\n",
      "       24/1    1.38295    1.43611 +/- 0.01611\n",
      "       25/1    1.42331    1.43526 +/- 0.01503\n",
      "       26/1    1.44462    1.43585 +/- 0.01407\n",
      "       27/1    1.43415    1.43575 +/- 0.01321\n",
      "       28/1    1.48582    1.43853 +/- 0.01276\n",
      "       29/1    1.44884    1.43907 +/- 0.01209\n",
      "       30/1    1.34656    1.43444 +/- 0.01236\n",
      "       31/1    1.44433    1.43492 +/- 0.01177\n",
      "       32/1    1.48062    1.43699 +/- 0.01141\n",
      "       33/1    1.37226    1.43418 +/- 0.01126\n",
      "       34/1    1.31991    1.42942 +/- 0.01179\n",
      "       35/1    1.48850    1.43178 +/- 0.01155\n",
      "       36/1    1.47446    1.43342 +/- 0.01122\n",
      "       37/1    1.49478    1.43569 +/- 0.01103\n",
      "       38/1    1.35729    1.43289 +/- 0.01099\n",
      "       39/1    1.37560    1.43092 +/- 0.01079\n",
      "       40/1    1.41980    1.43055 +/- 0.01043\n",
      "       41/1    1.36832    1.42854 +/- 0.01029\n",
      "       42/1    1.41065    1.42798 +/- 0.00997\n",
      "       43/1    1.36825    1.42617 +/- 0.00984\n",
      "       44/1    1.37304    1.42461 +/- 0.00967\n",
      "       45/1    1.40813    1.42414 +/- 0.00940\n",
      "       46/1    1.39351    1.42329 +/- 0.00918\n",
      "       47/1    1.46699    1.42447 +/- 0.00900\n",
      "       48/1    1.41202    1.42414 +/- 0.00877\n",
      "       49/1    1.45476    1.42493 +/- 0.00858\n",
      "       50/1    1.38327    1.42388 +/- 0.00842\n",
      " Creating state point statepoint.50.h5...\n",
      "\n",
      " =======================>     TIMING STATISTICS     <=======================\n",
      "\n",
      " Total time for initialization     = 0.0000e+00 seconds\n",
      "   Reading cross sections          = 0.0000e+00 seconds\n",
      " Total time in simulation          = 1.3031e+01 seconds\n",
      "   Time in transport only          = 1.3022e+01 seconds\n",
      "   Time in inactive batches        = 2.2077e+00 seconds\n",
      "   Time in active batches          = 1.0824e+01 seconds\n",
      "   Time synchronizing fission bank = 4.5578e-03 seconds\n",
      "     Sampling source sites         = 4.1598e-03 seconds\n",
      "     SEND/RECV source sites        = 3.7168e-04 seconds\n",
      "   Time accumulating tallies       = 2.3355e-04 seconds\n",
      "   Time writing statepoints        = 2.7490e-03 seconds\n",
      " Total time for finalization       = 4.9850e-05 seconds\n",
      " Total time elapsed                = 1.3045e+01 seconds\n",
      " Calculation Rate (inactive)       = 4529.68 particles/second\n",
      " Calculation Rate (active)         = 3695.64 particles/second\n",
      "\n",
      " ============================>     RESULTS     <============================\n",
      "\n",
      " k-effective (Collision)     = 1.42700 +/- 0.00561\n",
      " k-effective (Track-length)  = 1.42388 +/- 0.00842\n",
      " k-effective (Absorption)    = 1.43128 +/- 0.00502\n",
      " Combined k-effective        = 1.42959 +/- 0.00429\n",
      " Leakage Fraction            = 0.00000 +/- 0.00000\n",
      "\n",
      " Creating state point openmc_simulation_n3.h5...\n",
      "[openmc.deplete] t=10368000.0 s, dt=2592000 s, source=174\n",
      " Maximum neutron transport energy: 20000000 eV for U235\n",
      " Initializing source particles...\n",
      "\n",
      " ====================>     K EIGENVALUE SIMULATION     <====================\n",
      "\n",
      "  Bat./Gen.      k            Average k\n",
      "  =========   ========   ====================\n",
      "        1/1    1.38925\n",
      "        2/1    1.42976\n",
      "        3/1    1.41226\n",
      "        4/1    1.39211\n",
      "        5/1    1.50564\n",
      "        6/1    1.47182\n",
      "        7/1    1.40604\n",
      "        8/1    1.47053\n",
      "        9/1    1.38703\n",
      "       10/1    1.40210\n",
      "       11/1    1.49465\n",
      "       12/1    1.38331    1.43898 +/- 0.05567\n",
      "       13/1    1.36733    1.41510 +/- 0.04004\n",
      "       14/1    1.43836    1.42091 +/- 0.02891\n",
      "       15/1    1.28111    1.39295 +/- 0.03582\n",
      "       16/1    1.46121    1.40433 +/- 0.03138\n",
      "       17/1    1.33978    1.39511 +/- 0.02808\n",
      "       18/1    1.41161    1.39717 +/- 0.02440\n",
      "       19/1    1.39461    1.39689 +/- 0.02152\n",
      "       20/1    1.47066    1.40426 +/- 0.02062\n",
      "       21/1    1.42437    1.40609 +/- 0.01874\n",
      "       22/1    1.46622    1.41110 +/- 0.01782\n",
      "       23/1    1.37032    1.40797 +/- 0.01669\n",
      "       24/1    1.41432    1.40842 +/- 0.01546\n",
      "       25/1    1.38921    1.40714 +/- 0.01445\n",
      "       26/1    1.40164    1.40679 +/- 0.01352\n",
      "       27/1    1.42757    1.40802 +/- 0.01276\n",
      "       28/1    1.32544    1.40343 +/- 0.01288\n",
      "       29/1    1.45468    1.40613 +/- 0.01247\n",
      "       30/1    1.49292    1.41047 +/- 0.01261\n",
      "       31/1    1.38744    1.40937 +/- 0.01204\n",
      "       32/1    1.46078    1.41171 +/- 0.01171\n",
      "       33/1    1.42757    1.41240 +/- 0.01122\n",
      "       34/1    1.44109    1.41359 +/- 0.01080\n",
      "       35/1    1.39698    1.41293 +/- 0.01038\n",
      "       36/1    1.47438    1.41529 +/- 0.01025\n",
      "       37/1    1.45001    1.41658 +/- 0.00995\n",
      "       38/1    1.42864    1.41701 +/- 0.00960\n",
      "       39/1    1.44516    1.41798 +/- 0.00931\n",
      "       40/1    1.46250    1.41946 +/- 0.00912\n",
      "       41/1    1.36719    1.41778 +/- 0.00898\n",
      "       42/1    1.32118    1.41476 +/- 0.00920\n",
      "       43/1    1.48217    1.41680 +/- 0.00915\n",
      "       44/1    1.46043    1.41808 +/- 0.00897\n",
      "       45/1    1.47425    1.41969 +/- 0.00886\n",
      "       46/1    1.46925    1.42107 +/- 0.00872\n",
      "       47/1    1.46076    1.42214 +/- 0.00854\n",
      "       48/1    1.34478    1.42010 +/- 0.00856\n",
      "       49/1    1.38493    1.41920 +/- 0.00839\n",
      "       50/1    1.34114    1.41725 +/- 0.00841\n",
      " Creating state point statepoint.50.h5...\n",
      "\n",
      " =======================>     TIMING STATISTICS     <=======================\n",
      "\n",
      " Total time for initialization     = 0.0000e+00 seconds\n",
      "   Reading cross sections          = 0.0000e+00 seconds\n",
      " Total time in simulation          = 1.3126e+01 seconds\n",
      "   Time in transport only          = 1.3116e+01 seconds\n",
      "   Time in inactive batches        = 2.2380e+00 seconds\n",
      "   Time in active batches          = 1.0888e+01 seconds\n",
      "   Time synchronizing fission bank = 4.1247e-03 seconds\n",
      "     Sampling source sites         = 3.7224e-03 seconds\n",
      "     SEND/RECV source sites        = 3.7812e-04 seconds\n",
      "   Time accumulating tallies       = 2.2789e-04 seconds\n",
      "   Time writing statepoints        = 3.0614e-03 seconds\n",
      " Total time for finalization       = 5.4060e-05 seconds\n",
      " Total time elapsed                = 1.3140e+01 seconds\n",
      " Calculation Rate (inactive)       = 4468.2 particles/second\n",
      " Calculation Rate (active)         = 3673.84 particles/second\n",
      "\n",
      " ============================>     RESULTS     <============================\n",
      "\n",
      " k-effective (Collision)     = 1.41574 +/- 0.00666\n",
      " k-effective (Track-length)  = 1.41725 +/- 0.00841\n",
      " k-effective (Absorption)    = 1.42868 +/- 0.00429\n",
      " Combined k-effective        = 1.42755 +/- 0.00464\n",
      " Leakage Fraction            = 0.00000 +/- 0.00000\n",
      "\n",
      " Creating state point openmc_simulation_n4.h5...\n",
      "[openmc.deplete] t=12960000.0 s, dt=2592000 s, source=174\n",
      " Maximum neutron transport energy: 20000000 eV for U235\n",
      " Initializing source particles...\n",
      "\n",
      " ====================>     K EIGENVALUE SIMULATION     <====================\n",
      "\n",
      "  Bat./Gen.      k            Average k\n",
      "  =========   ========   ====================\n",
      "        1/1    1.41046\n",
      "        2/1    1.38415\n",
      "        3/1    1.41886\n",
      "        4/1    1.49276\n",
      "        5/1    1.51088\n",
      "        6/1    1.47652\n",
      "        7/1    1.35478\n",
      "        8/1    1.35145\n",
      "        9/1    1.49048\n",
      "       10/1    1.44388\n",
      "       11/1    1.46152\n",
      "       12/1    1.46663    1.46408 +/- 0.00255\n",
      "       13/1    1.47189    1.46668 +/- 0.00299\n",
      "       14/1    1.39703    1.44927 +/- 0.01754\n",
      "       15/1    1.41472    1.44236 +/- 0.01524\n",
      "       16/1    1.42886    1.44011 +/- 0.01265\n",
      "       17/1    1.45836    1.44272 +/- 0.01100\n",
      "       18/1    1.44504    1.44301 +/- 0.00953\n",
      "       19/1    1.35868    1.43364 +/- 0.01259\n",
      "       20/1    1.36823    1.42710 +/- 0.01302\n",
      "       21/1    1.44284    1.42853 +/- 0.01186\n",
      "       22/1    1.52754    1.43678 +/- 0.01362\n",
      "       23/1    1.44989    1.43779 +/- 0.01257\n",
      "       24/1    1.48022    1.44082 +/- 0.01202\n",
      "       25/1    1.40460    1.43840 +/- 0.01145\n",
      "       26/1    1.36586    1.43387 +/- 0.01163\n",
      "       27/1    1.35671    1.42933 +/- 0.01183\n",
      "       28/1    1.54670    1.43585 +/- 0.01292\n",
      "       29/1    1.41323    1.43466 +/- 0.01228\n",
      "       30/1    1.41355    1.43361 +/- 0.01170\n",
      "       31/1    1.56992    1.44010 +/- 0.01288\n",
      "       32/1    1.35745    1.43634 +/- 0.01284\n",
      "       33/1    1.42131    1.43569 +/- 0.01229\n",
      "       34/1    1.45210    1.43637 +/- 0.01179\n",
      "       35/1    1.36098    1.43335 +/- 0.01170\n",
      "       36/1    1.45621    1.43423 +/- 0.01128\n",
      "       37/1    1.47355    1.43569 +/- 0.01095\n",
      "       38/1    1.44393    1.43598 +/- 0.01055\n",
      "       39/1    1.52203    1.43895 +/- 0.01061\n",
      "       40/1    1.43143    1.43870 +/- 0.01025\n",
      "       41/1    1.44187    1.43880 +/- 0.00991\n",
      "       42/1    1.27834    1.43379 +/- 0.01083\n",
      "       43/1    1.38906    1.43243 +/- 0.01058\n",
      "       44/1    1.41543    1.43193 +/- 0.01028\n",
      "       45/1    1.39747    1.43095 +/- 0.01003\n",
      "       46/1    1.38755    1.42974 +/- 0.00982\n",
      "       47/1    1.40362    1.42904 +/- 0.00958\n",
      "       48/1    1.32535    1.42631 +/- 0.00971\n",
      "       49/1    1.38622    1.42528 +/- 0.00952\n",
      "       50/1    1.40968    1.42489 +/- 0.00928\n",
      " Creating state point statepoint.50.h5...\n",
      "\n",
      " =======================>     TIMING STATISTICS     <=======================\n",
      "\n",
      " Total time for initialization     = 0.0000e+00 seconds\n",
      "   Reading cross sections          = 0.0000e+00 seconds\n",
      " Total time in simulation          = 1.3098e+01 seconds\n",
      "   Time in transport only          = 1.3089e+01 seconds\n",
      "   Time in inactive batches        = 2.2179e+00 seconds\n",
      "   Time in active batches          = 1.0881e+01 seconds\n",
      "   Time synchronizing fission bank = 4.5930e-03 seconds\n",
      "     Sampling source sites         = 4.1842e-03 seconds\n",
      "     SEND/RECV source sites        = 3.7955e-04 seconds\n",
      "   Time accumulating tallies       = 2.4737e-04 seconds\n",
      "   Time writing statepoints        = 2.7292e-03 seconds\n",
      " Total time for finalization       = 5.2371e-05 seconds\n",
      " Total time elapsed                = 1.3112e+01 seconds\n",
      " Calculation Rate (inactive)       = 4508.68 particles/second\n",
      " Calculation Rate (active)         = 3676.29 particles/second\n",
      "\n",
      " ============================>     RESULTS     <============================\n",
      "\n",
      " k-effective (Collision)     = 1.42490 +/- 0.00784\n",
      " k-effective (Track-length)  = 1.42489 +/- 0.00928\n",
      " k-effective (Absorption)    = 1.42584 +/- 0.00494\n",
      " Combined k-effective        = 1.42575 +/- 0.00483\n",
      " Leakage Fraction            = 0.00000 +/- 0.00000\n",
      "\n",
      " Creating state point openmc_simulation_n5.h5...\n",
      "[openmc.deplete] t=15552000.0 (final operator evaluation)\n",
      " Maximum neutron transport energy: 20000000 eV for U235\n",
      " Initializing source particles...\n",
      "\n",
      " ====================>     K EIGENVALUE SIMULATION     <====================\n",
      "\n",
      "  Bat./Gen.      k            Average k\n",
      "  =========   ========   ====================\n",
      "        1/1    1.46692\n",
      "        2/1    1.42016\n",
      "        3/1    1.35815\n",
      "        4/1    1.38064\n",
      "        5/1    1.44504\n",
      "        6/1    1.36182\n",
      "        7/1    1.31279\n",
      "        8/1    1.47632\n",
      "        9/1    1.48287\n",
      "       10/1    1.40492\n",
      "       11/1    1.34730\n",
      "       12/1    1.46660    1.40695 +/- 0.05965\n",
      "       13/1    1.47009    1.42800 +/- 0.04036\n",
      "       14/1    1.41037    1.42359 +/- 0.02888\n",
      "       15/1    1.35040    1.40895 +/- 0.02673\n",
      "       16/1    1.41945    1.41070 +/- 0.02190\n",
      "       17/1    1.54521    1.42992 +/- 0.02668\n",
      "       18/1    1.45638    1.43322 +/- 0.02334\n",
      "       19/1    1.38313    1.42766 +/- 0.02132\n",
      "       20/1    1.48971    1.43386 +/- 0.02006\n",
      "       21/1    1.43673    1.43412 +/- 0.01814\n",
      "       22/1    1.38255    1.42983 +/- 0.01711\n",
      "       23/1    1.47338    1.43318 +/- 0.01609\n",
      "       24/1    1.43212    1.43310 +/- 0.01490\n",
      "       25/1    1.47334    1.43578 +/- 0.01413\n",
      "       26/1    1.44139    1.43613 +/- 0.01322\n",
      "       27/1    1.47399    1.43836 +/- 0.01262\n",
      "       28/1    1.45271    1.43916 +/- 0.01192\n",
      "       29/1    1.41352    1.43781 +/- 0.01136\n",
      "       30/1    1.40013    1.43593 +/- 0.01094\n",
      "       31/1    1.44858    1.43653 +/- 0.01042\n",
      "       32/1    1.38137    1.43402 +/- 0.01025\n",
      "       33/1    1.37217    1.43133 +/- 0.01015\n",
      "       34/1    1.36865    1.42872 +/- 0.01007\n",
      "       35/1    1.35863    1.42592 +/- 0.01005\n",
      "       36/1    1.41942    1.42567 +/- 0.00966\n",
      "       37/1    1.47196    1.42738 +/- 0.00945\n",
      "       38/1    1.50806    1.43026 +/- 0.00956\n",
      "       39/1    1.38029    1.42854 +/- 0.00938\n",
      "       40/1    1.32528    1.42510 +/- 0.00969\n",
      "       41/1    1.43717    1.42549 +/- 0.00938\n",
      "       42/1    1.40786    1.42494 +/- 0.00910\n",
      "       43/1    1.45468    1.42584 +/- 0.00887\n",
      "       44/1    1.32809    1.42296 +/- 0.00907\n",
      "       45/1    1.37289    1.42153 +/- 0.00892\n",
      "       46/1    1.39638    1.42083 +/- 0.00870\n",
      "       47/1    1.45351    1.42172 +/- 0.00851\n",
      "       48/1    1.37909    1.42059 +/- 0.00836\n",
      "       49/1    1.41817    1.42053 +/- 0.00814\n",
      "       50/1    1.36996    1.41927 +/- 0.00803\n",
      " Creating state point statepoint.50.h5...\n",
      "\n",
      " =======================>     TIMING STATISTICS     <=======================\n",
      "\n",
      " Total time for initialization     = 0.0000e+00 seconds\n",
      "   Reading cross sections          = 0.0000e+00 seconds\n",
      " Total time in simulation          = 1.3234e+01 seconds\n",
      "   Time in transport only          = 1.3225e+01 seconds\n",
      "   Time in inactive batches        = 2.2456e+00 seconds\n",
      "   Time in active batches          = 1.0989e+01 seconds\n",
      "   Time synchronizing fission bank = 4.2442e-03 seconds\n",
      "     Sampling source sites         = 3.8368e-03 seconds\n",
      "     SEND/RECV source sites        = 3.8075e-04 seconds\n",
      "   Time accumulating tallies       = 2.4804e-04 seconds\n",
      "   Time writing statepoints        = 2.7128e-03 seconds\n",
      " Total time for finalization       = 5.0970e-05 seconds\n",
      " Total time elapsed                = 1.3248e+01 seconds\n",
      " Calculation Rate (inactive)       = 4453.13 particles/second\n",
      " Calculation Rate (active)         = 3640.13 particles/second\n",
      "\n",
      " ============================>     RESULTS     <============================\n",
      "\n",
      " k-effective (Collision)     = 1.42429 +/- 0.00588\n",
      " k-effective (Track-length)  = 1.41927 +/- 0.00803\n",
      " k-effective (Absorption)    = 1.42275 +/- 0.00472\n",
      " Combined k-effective        = 1.42368 +/- 0.00460\n",
      " Leakage Fraction            = 0.00000 +/- 0.00000\n",
      "\n",
      " Creating state point openmc_simulation_n6.h5...\n"
     ]
    }
   ],
   "source": [
    "integrator.integrate()"
   ]
  },
  {
   "cell_type": "markdown",
   "metadata": {},
   "source": [
    "## Processing the outputs\n",
    "\n",
    "The depletion simulation produces a few output files. First, the statepoint files from each individual transport simulation are written to `openmc_simulation_n<N>.h5`, where `<N>` indicates the current depletion step. Any tallies that we defined in `tallies.xml` will be included in these files across our simulations. We have 7 such files, one for each our of 6 depletion steps and the initial state."
   ]
  },
  {
   "cell_type": "code",
   "execution_count": 16,
   "metadata": {},
   "outputs": [
    {
     "name": "stdout",
     "output_type": "stream",
     "text": [
      "c5g7.h5\t\t\t openmc_simulation_n2.h5  openmc_simulation_n6.h5\n",
      "depletion_results.h5\t openmc_simulation_n3.h5  statepoint.50.h5\n",
      "openmc_simulation_n0.h5  openmc_simulation_n4.h5  summary.h5\n",
      "openmc_simulation_n1.h5  openmc_simulation_n5.h5\n"
     ]
    }
   ],
   "source": [
    "!ls *.h5"
   ]
  },
  {
   "cell_type": "markdown",
   "metadata": {},
   "source": [
    "The `depletion_results.h5` file contains information that is aggregated over all time steps through depletion. This includes the multiplication factor, as well as concentrations. We can process this file using the `openmc.deplete.ResultsList` object"
   ]
  },
  {
   "cell_type": "code",
   "execution_count": 17,
   "metadata": {},
   "outputs": [],
   "source": [
    "results = openmc.deplete.Results(\"./depletion_results.h5\")"
   ]
  },
  {
   "cell_type": "code",
   "execution_count": 18,
   "metadata": {},
   "outputs": [],
   "source": [
    "time, k = results.get_keff()"
   ]
  },
  {
   "cell_type": "code",
   "execution_count": 19,
   "metadata": {},
   "outputs": [],
   "source": [
    "time /= (24 * 60 * 60)  # convert back to days from seconds"
   ]
  },
  {
   "cell_type": "code",
   "execution_count": 20,
   "metadata": {},
   "outputs": [
    {
     "data": {
      "text/plain": [
       "array([[1.46477526, 0.00392422],\n",
       "       [1.43890826, 0.00465543],\n",
       "       [1.43604211, 0.00493173],\n",
       "       [1.42958815, 0.00429288],\n",
       "       [1.42754967, 0.00463556],\n",
       "       [1.42575323, 0.00483288],\n",
       "       [1.42368305, 0.00459654]])"
      ]
     },
     "execution_count": 20,
     "metadata": {},
     "output_type": "execute_result"
    }
   ],
   "source": [
    "k"
   ]
  },
  {
   "cell_type": "markdown",
   "metadata": {},
   "source": [
    "The first column of `k` is the value of `k-combined` at each point in our simulation, while the second column contains the associated uncertainty. We can plot this using `matplotlib`"
   ]
  },
  {
   "cell_type": "code",
   "execution_count": 21,
   "metadata": {},
   "outputs": [],
   "source": [
    "from matplotlib import pyplot"
   ]
  },
  {
   "cell_type": "code",
   "execution_count": 22,
   "metadata": {},
   "outputs": [
    {
     "data": {
      "image/png": "[encoded data removed]",
      "text/plain": [
       "<Figure size 432x288 with 1 Axes>"
      ]
     },
     "metadata": {
      "needs_background": "light"
     },
     "output_type": "display_data"
    }
   ],
   "source": [
    "pyplot.errorbar(time, k[:, 0], yerr=k[:, 1])\n",
    "pyplot.xlabel(\"Time [d]\")\n",
    "pyplot.ylabel(\"$k_{eff}\\pm \\sigma$\");"
   ]
  },
  {
   "cell_type": "markdown",
   "metadata": {},
   "source": [
    "Due to the low number of particles selected, the uncertainty on each value is rather high. However, we can still see the decline over time due to fuel consumption."
   ]
  },
  {
   "cell_type": "markdown",
   "metadata": {},
   "source": [
    "We can then examine concentrations of atoms in each of our materials. This requires knowing the material ID, which can be obtained from the `materials.xml` file."
   ]
  },
  {
   "cell_type": "code",
   "execution_count": 23,
   "metadata": {},
   "outputs": [],
   "source": [
    "_, u5 = results.get_atoms(\"1\", \"U235\")\n",
    "_, xe135 = results.get_atoms(\"1\", \"Xe135\")"
   ]
  },
  {
   "cell_type": "code",
   "execution_count": 24,
   "metadata": {},
   "outputs": [
    {
     "data": {
      "image/png": "[encoded data removed]",
      "text/plain": [
       "<Figure size 432x288 with 1 Axes>"
      ]
     },
     "metadata": {
      "needs_background": "light"
     },
     "output_type": "display_data"
    }
   ],
   "source": [
    "pyplot.plot(time, u5, label=\"U235\")\n",
    "pyplot.xlabel(\"Time [d]\")\n",
    "pyplot.ylabel(\"Number of atoms - U235\");"
   ]
  },
  {
   "cell_type": "code",
   "execution_count": 25,
   "metadata": {},
   "outputs": [
    {
     "data": {
      "image/png": "[encoded data removed]",
      "text/plain": [
       "<Figure size 432x288 with 1 Axes>"
      ]
     },
     "metadata": {
      "needs_background": "light"
     },
     "output_type": "display_data"
    }
   ],
   "source": [
    "pyplot.plot(time, xe135, label=\"Xe135\")\n",
    "pyplot.xlabel(\"Time [d]\")\n",
    "pyplot.ylabel(\"Number of atoms - Xe135\");"
   ]
  },
  {
   "cell_type": "markdown",
   "metadata": {},
   "source": [
    "We can also examine reaction rates over time using the `ResultsList`"
   ]
  },
  {
   "cell_type": "code",
   "execution_count": 26,
   "metadata": {},
   "outputs": [],
   "source": [
    "_, u5_fission = results.get_reaction_rate(\"1\", \"U235\", \"fission\")"
   ]
  },
  {
   "cell_type": "code",
   "execution_count": 27,
   "metadata": {},
   "outputs": [
    {
     "data": {
      "image/png": "[encoded data removed]",
      "text/plain": [
       "<Figure size 432x288 with 1 Axes>"
      ]
     },
     "metadata": {
      "needs_background": "light"
     },
     "output_type": "display_data"
    }
   ],
   "source": [
    "pyplot.plot(time, u5_fission)\n",
    "pyplot.xlabel(\"Time [d]\")\n",
    "pyplot.ylabel(\"Fission reactions / s\");"
   ]
  },
  {
   "cell_type": "markdown",
   "metadata": {},
   "source": [
    "## Helpful tips\n",
    "\n",
    "Depletion is a tricky task to get correct. Use too short of time steps and you may never get your results due to running many transport simulations. Use long of time steps and you may get incorrect answers. Consider the xenon plot from above. Xenon-135 is a fission product with a thermal absorption cross section on the order of millions of barns, but has a half life of ~9 hours. Taking smaller time steps at the beginning of your simulation to build up some equilibrium in your fission products is highly recommended.\n",
    "\n",
    "When possible, differentiate materials that reappear in multiple places. If we had built an entire core with the single `fuel` material, every pin would be depleted using the same averaged spectrum and reaction rates which is incorrect. The `Operator` can differentiate these materials using the `diff_burnable_mats` argument, but note that the volumes will be copied from the original material.\n",
    "\n",
    "Using higher-order integrators, like the `CECMIntegrator`, `EPCRK4Integrator` with a fourth order Runge-Kutta, or the `LEQIIntegrator`, can improve the accuracy of a simulation, or at least allow you to take longer depletion steps between transport simulations with similar accuracy.\n",
    "\n",
    "Fuel pins with integrated burnable absorbers, like gadolinia, experience strong flux gradients until the absorbers are mostly burned away. This means that the spectrum and magnitude of the flux at the edge of the fuel pin can be vastly different than that in the interior. The helper `pin` function can be used to subdivide regions into equal volume segments, as follows."
   ]
  },
  {
   "cell_type": "code",
   "execution_count": 28,
   "metadata": {},
   "outputs": [],
   "source": [
    "div_surfs_1 = [openmc.ZCylinder(r=1)]\n",
    "div_1 = openmc.model.pin(div_surfs_1, [fuel, water], subdivisions={0: 10})"
   ]
  },
  {
   "cell_type": "code",
   "execution_count": 29,
   "metadata": {},
   "outputs": [
    {
     "data": {
      "text/plain": [
       "<matplotlib.image.AxesImage at 0x7f8a8c4de9d0>"
      ]
     },
     "execution_count": 29,
     "metadata": {},
     "output_type": "execute_result"
    },
    {
     "data": {
      "image/png": "[encoded data removed]",
      "text/plain": [
       "<Figure size 258.065x264.901 with 1 Axes>"
      ]
     },
     "metadata": {
      "needs_background": "light"
     },
     "output_type": "display_data"
    }
   ],
   "source": [
    "div_1.plot(width=(2.0, 2.0))"
   ]
  },
  {
   "cell_type": "markdown",
   "metadata": {},
   "source": [
    "The innermost region has been divided into 10 equal volume regions. We can pass additional arguments to divide multiple regions, except for the region outside the last cylinder."
   ]
  },
  {
   "cell_type": "markdown",
   "metadata": {},
   "source": [
    "## Register depletion chain\n",
    "\n",
    "The depletion chain we created can be registered into the OpenMC `cross_sections.xml` file, so we don't have to always pass the `chain_file` argument to the `Operator`. To do this, we create a `DataLibrary` using `openmc.data`. Without any arguments, the `from_xml` method will look for the file located at `OPENMC_CROSS_SECTIONS`. For this example, we will just create a bare library."
   ]
  },
  {
   "cell_type": "code",
   "execution_count": 30,
   "metadata": {},
   "outputs": [],
   "source": [
    "data_lib = openmc.data.DataLibrary()"
   ]
  },
  {
   "cell_type": "code",
   "execution_count": 31,
   "metadata": {},
   "outputs": [],
   "source": [
    "data_lib.register_file(\"./chain_simple.xml\")"
   ]
  },
  {
   "cell_type": "code",
   "execution_count": 32,
   "metadata": {},
   "outputs": [],
   "source": [
    "data_lib.export_to_xml()"
   ]
  },
  {
   "cell_type": "code",
   "execution_count": 33,
   "metadata": {},
   "outputs": [
    {
     "name": "stdout",
     "output_type": "stream",
     "text": [
      "<?xml version='1.0' encoding='utf-8'?>\n",
      "<cross_sections>\n",
      "  <depletion_chain path=\"chain_simple.xml\" type=\"depletion_chain\" />\n",
      "</cross_sections>\n"
     ]
    }
   ],
   "source": [
    "!cat cross_sections.xml"
   ]
  },
  {
   "cell_type": "markdown",
   "metadata": {},
   "source": [
    "This allows us to make an `Operator` simply with the geometry and settings arguments, provided we exported our library to `OPENMC_CROSS_SECTIONS`. For a problem where we built and registered a `Chain` using all the available nuclear data, we might see something like the following."
   ]
  },
  {
   "cell_type": "code",
   "execution_count": 34,
   "metadata": {},
   "outputs": [],
   "source": [
    "model = openmc.Model(geometry=geometry, settings=settings)\n",
    "new_op = openmc.deplete.CoupledOperator(model, \"./chain_simple.xml\")"
   ]
  },
  {
   "cell_type": "code",
   "execution_count": 35,
   "metadata": {},
   "outputs": [
    {
     "data": {
      "text/plain": [
       "9"
      ]
     },
     "execution_count": 35,
     "metadata": {},
     "output_type": "execute_result"
    }
   ],
   "source": [
    "len(new_op.chain.nuclide_dict)"
   ]
  },
  {
   "cell_type": "code",
   "execution_count": 36,
   "metadata": {},
   "outputs": [
    {
     "data": {
      "text/plain": [
       "['I135', 'Xe135', 'Xe136', 'Cs135', 'Gd157', 'Gd156', 'U234', 'U235', 'U238']"
      ]
     },
     "execution_count": 36,
     "metadata": {},
     "output_type": "execute_result"
    }
   ],
   "source": [
    "[nuc.name for nuc in new_op.chain.nuclides[:10]]"
   ]
  },
  {
   "cell_type": "code",
   "execution_count": 37,
   "metadata": {},
   "outputs": [
    {
     "data": {
      "text/plain": [
       "['I135', 'Xe135', 'Xe136', 'Cs135', 'Gd157', 'Gd156', 'U234', 'U235', 'U238']"
      ]
     },
     "execution_count": 37,
     "metadata": {},
     "output_type": "execute_result"
    }
   ],
   "source": [
    "[nuc.name for nuc in new_op.chain.nuclides[-10:]]"
   ]
  },
  {
   "cell_type": "markdown",
   "metadata": {},
   "source": [
    "## Choice of depletion step size\n",
    "\n",
    "A general rule of thumb is to use depletion step sizes around 2 MWd/kgHM, where kgHM is really the initial heavy metal mass in kg. If your problem includes integral burnable absorbers, these typically require shorter time steps at or below 1 MWd/kgHM. These are typically valid for the predictor scheme, as the point of recent schemes is to extend this step size. A good convergence study, where the step size is decreased until some convergence metric is satisfied, is a beneficial exercise.\n",
    "\n",
    "We can use the `Operator` to determine our maximum step size using this recommendation. The `heavy_metal` attribute returns the mass of initial heavy metal in g, which, using our power, can be used to compute this step size. $$\\frac{2\\,MWd}{kgHM} = \\frac{P\\times\\Delta}{hm_{op}}$$"
   ]
  },
  {
   "cell_type": "code",
   "execution_count": 38,
   "metadata": {},
   "outputs": [
    {
     "data": {
      "text/plain": [
       "5.080339195584719"
      ]
     },
     "execution_count": 38,
     "metadata": {},
     "output_type": "execute_result"
    }
   ],
   "source": [
    "operator.heavy_metal"
   ]
  },
  {
   "cell_type": "code",
   "execution_count": 39,
   "metadata": {},
   "outputs": [],
   "source": [
    "max_step = 2 * operator.heavy_metal / power * 1E3"
   ]
  },
  {
   "cell_type": "code",
   "execution_count": 40,
   "metadata": {},
   "outputs": [
    {
     "name": "stdout",
     "output_type": "stream",
     "text": [
      "\"Maximum\" depletion step:  58.4 [d]\n"
     ]
    }
   ],
   "source": [
    "print(\"\\\"Maximum\\\" depletion step: {:5.3} [d]\".format(max_step))"
   ]
  },
  {
   "cell_type": "markdown",
   "metadata": {},
   "source": [
    "Alternatively, if we were provided the power density of our problem, we can provide this directly with `openmc.deplete.PredictorIntegrator(operator, time_steps, power_density=pdens)`. The values of `power` and `power_density` do not have to be scalars. For problems with variable power, we can provide an iterable with the same number of elements as `time_steps`."
   ]
  }
 ],
 "metadata": {
  "kernelspec": {
   "display_name": "Python 3 (ipykernel)",
   "language": "python",
   "name": "python3"
  },
  "language_info": {
   "codemirror_mode": {
    "name": "ipython",
    "version": 3
   },
   "file_extension": ".py",
   "mimetype": "text/x-python",
   "name": "python",
   "nbconvert_exporter": "python",
   "pygments_lexer": "ipython3",
   "version": "3.9.1"
  }
 },
 "nbformat": 4,
 "nbformat_minor": 4
}
