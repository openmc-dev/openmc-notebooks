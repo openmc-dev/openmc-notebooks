{
 "cells": [
  {
   "cell_type": "markdown",
   "metadata": {},
   "source": [
    "# Functional Expansions\n",
    "OpenMC's general tally system accommodates a wide range of tally *filters*. While most filters are meant to identify regions of phase space that contribute to a tally, there are a special set of functional expansion filters that will multiply the tally by a set of orthogonal functions, e.g. Legendre polynomials, so that continuous functions of space or angle can be reconstructed from the tallied moments.\n",
    "\n",
    "In this example, we will determine the spatial dependence of the flux along the $z$ axis by making a Legendre polynomial expansion. Let us represent the flux along the z axis, $\\phi(z)$, by the function\n",
    "\n",
    "$$ \\phi(z') = \\sum\\limits_{n=0}^N a_n P_n(z') $$\n",
    "\n",
    "where $z'$ is the position normalized to the range [-1, 1]. Since $P_n(z')$ are known functions, our only task is to determine the expansion coefficients, $a_n$. By the orthogonality properties of the Legendre polynomials, one can deduce that the coefficients, $a_n$, are given by\n",
    "\n",
    "$$ a_n = \\frac{2n + 1}{2} \\int_{-1}^1 dz' P_n(z') \\phi(z').$$\n",
    "\n",
    "Thus, the problem reduces to finding the integral of the flux times each Legendre polynomial -- a problem which can be solved by using a Monte Carlo tally. By using a Legendre polynomial filter, we obtain stochastic estimates of these integrals for each polynomial order."
   ]
  },
  {
   "cell_type": "code",
   "execution_count": 1,
   "metadata": {},
   "outputs": [],
   "source": [
    "%matplotlib inline\n",
    "import openmc\n",
    "import numpy as np\n",
    "import matplotlib.pyplot as plt"
   ]
  },
  {
   "cell_type": "markdown",
   "metadata": {},
   "source": [
    "To begin, let us first create a simple model. The model will be a slab of fuel material with reflective boundaries conditions in the x- and y-directions and vacuum boundaries in the z-direction. However, to make the distribution slightly more interesting, we'll put some B<sub>4</sub>C in the middle of the slab."
   ]
  },
  {
   "cell_type": "code",
   "execution_count": 2,
   "metadata": {},
   "outputs": [],
   "source": [
    "# Define fuel and B4C materials\n",
    "fuel = openmc.Material()\n",
    "fuel.add_element('U', 1.0, enrichment=4.5)\n",
    "fuel.add_nuclide('O16', 2.0)\n",
    "fuel.set_density('g/cm3', 10.0)\n",
    "\n",
    "b4c = openmc.Material()\n",
    "b4c.add_element('B', 4.0)\n",
    "b4c.add_element('C', 1.0)\n",
    "b4c.set_density('g/cm3', 2.5)"
   ]
  },
  {
   "cell_type": "code",
   "execution_count": 3,
   "metadata": {},
   "outputs": [],
   "source": [
    "# Define surfaces used to construct regions\n",
    "zmin, zmax = -10., 10.\n",
    "box = openmc.model.rectangular_prism(10., 10., boundary_type='reflective')\n",
    "bottom = openmc.ZPlane(z0=zmin, boundary_type='vacuum')\n",
    "boron_lower = openmc.ZPlane(z0=-0.5)\n",
    "boron_upper = openmc.ZPlane(z0=0.5)\n",
    "top = openmc.ZPlane(z0=zmax, boundary_type='vacuum')\n",
    "\n",
    "# Create three cells and add them to geometry\n",
    "fuel1 = openmc.Cell(fill=fuel, region=box & +bottom & -boron_lower)\n",
    "absorber = openmc.Cell(fill=b4c, region=box & +boron_lower & -boron_upper)\n",
    "fuel2 = openmc.Cell(fill=fuel, region=box & +boron_upper & -top)\n",
    "geom = openmc.Geometry([fuel1, absorber, fuel2])"
   ]
  },
  {
   "cell_type": "markdown",
   "metadata": {},
   "source": [
    "For the starting source, we'll use a uniform distribution over the entire box geometry."
   ]
  },
  {
   "cell_type": "code",
   "execution_count": 4,
   "metadata": {},
   "outputs": [],
   "source": [
    "settings = openmc.Settings()\n",
    "spatial_dist = openmc.stats.Box(*geom.bounding_box)\n",
    "settings.source = openmc.Source(space=spatial_dist)\n",
    "settings.batches = 210\n",
    "settings.inactive = 10\n",
    "settings.particles = 1000"
   ]
  },
  {
   "cell_type": "markdown",
   "metadata": {},
   "source": [
    "Defining the tally is relatively straightforward. One simply needs to list 'flux' as a score and then add an expansion filter. For this case, we will want to use the `SpatialLegendreFilter` class which multiplies tally scores by Legendre polynomials evaluated on normalized spatial positions along an axis."
   ]
  },
  {
   "cell_type": "code",
   "execution_count": 5,
   "metadata": {},
   "outputs": [],
   "source": [
    "# Create a flux tally\n",
    "flux_tally = openmc.Tally()\n",
    "flux_tally.scores = ['flux']\n",
    "\n",
    "# Create a Legendre polynomial expansion filter and add to tally\n",
    "order = 8\n",
    "expand_filter = openmc.SpatialLegendreFilter(order, 'z', zmin, zmax)\n",
    "flux_tally.filters.append(expand_filter)"
   ]
  },
  {
   "cell_type": "markdown",
   "metadata": {},
   "source": [
    "The last thing we need to do is create a `Tallies` collection and export the entire model, which we'll do using the `Model` convenience class."
   ]
  },
  {
   "cell_type": "code",
   "execution_count": 6,
   "metadata": {},
   "outputs": [],
   "source": [
    "tallies = openmc.Tallies([flux_tally])\n",
    "model = openmc.model.Model(geometry=geom, settings=settings, tallies=tallies)"
   ]
  },
  {
   "cell_type": "markdown",
   "metadata": {},
   "source": [
    "Running a simulation is now as simple as calling the `run()` method of `Model`."
   ]
  },
  {
   "cell_type": "code",
   "execution_count": 7,
   "metadata": {},
   "outputs": [],
   "source": [
    "sp_file = model.run(output=False)"
   ]
  },
  {
   "cell_type": "markdown",
   "metadata": {},
   "source": [
    "Now that the run is finished, we need to load the results from the statepoint file."
   ]
  },
  {
   "cell_type": "code",
   "execution_count": 8,
   "metadata": {},
   "outputs": [],
   "source": [
    "with openmc.StatePoint(sp_file) as sp:\n",
    "    df = sp.tallies[flux_tally.id].get_pandas_dataframe()"
   ]
  },
  {
   "cell_type": "markdown",
   "metadata": {},
   "source": [
    "We've used the `get_pandas_dataframe()` method that returns tally data as a Pandas dataframe. Let's see what the raw data looks like."
   ]
  },
  {
   "cell_type": "code",
   "execution_count": 9,
   "metadata": {},
   "outputs": [
    {
     "data": {
      "text/html": [
       "<div>\n",
       "<style scoped>\n",
       "    .dataframe tbody tr th:only-of-type {\n",
       "        vertical-align: middle;\n",
       "    }\n",
       "\n",
       "    .dataframe tbody tr th {\n",
       "        vertical-align: top;\n",
       "    }\n",
       "\n",
       "    .dataframe thead th {\n",
       "        text-align: right;\n",
       "    }\n",
       "</style>\n",
       "<table border=\"1\" class=\"dataframe\">\n",
       "  <thead>\n",
       "    <tr style=\"text-align: right;\">\n",
       "      <th></th>\n",
       "      <th>spatiallegendre</th>\n",
       "      <th>nuclide</th>\n",
       "      <th>score</th>\n",
       "      <th>mean</th>\n",
       "      <th>std. dev.</th>\n",
       "    </tr>\n",
       "  </thead>\n",
       "  <tbody>\n",
       "    <tr>\n",
       "      <th>0</th>\n",
       "      <td>P0</td>\n",
       "      <td>total</td>\n",
       "      <td>flux</td>\n",
       "      <td>36.538951</td>\n",
       "      <td>0.078499</td>\n",
       "    </tr>\n",
       "    <tr>\n",
       "      <th>1</th>\n",
       "      <td>P1</td>\n",
       "      <td>total</td>\n",
       "      <td>flux</td>\n",
       "      <td>-0.012072</td>\n",
       "      <td>0.043053</td>\n",
       "    </tr>\n",
       "    <tr>\n",
       "      <th>2</th>\n",
       "      <td>P2</td>\n",
       "      <td>total</td>\n",
       "      <td>flux</td>\n",
       "      <td>-4.419424</td>\n",
       "      <td>0.025499</td>\n",
       "    </tr>\n",
       "    <tr>\n",
       "      <th>3</th>\n",
       "      <td>P3</td>\n",
       "      <td>total</td>\n",
       "      <td>flux</td>\n",
       "      <td>-0.005595</td>\n",
       "      <td>0.021585</td>\n",
       "    </tr>\n",
       "    <tr>\n",
       "      <th>4</th>\n",
       "      <td>P4</td>\n",
       "      <td>total</td>\n",
       "      <td>flux</td>\n",
       "      <td>-0.277076</td>\n",
       "      <td>0.013788</td>\n",
       "    </tr>\n",
       "    <tr>\n",
       "      <th>5</th>\n",
       "      <td>P5</td>\n",
       "      <td>total</td>\n",
       "      <td>flux</td>\n",
       "      <td>0.001362</td>\n",
       "      <td>0.011802</td>\n",
       "    </tr>\n",
       "    <tr>\n",
       "      <th>6</th>\n",
       "      <td>P6</td>\n",
       "      <td>total</td>\n",
       "      <td>flux</td>\n",
       "      <td>0.124089</td>\n",
       "      <td>0.009633</td>\n",
       "    </tr>\n",
       "    <tr>\n",
       "      <th>7</th>\n",
       "      <td>P7</td>\n",
       "      <td>total</td>\n",
       "      <td>flux</td>\n",
       "      <td>0.004958</td>\n",
       "      <td>0.008716</td>\n",
       "    </tr>\n",
       "    <tr>\n",
       "      <th>8</th>\n",
       "      <td>P8</td>\n",
       "      <td>total</td>\n",
       "      <td>flux</td>\n",
       "      <td>-0.102922</td>\n",
       "      <td>0.007807</td>\n",
       "    </tr>\n",
       "  </tbody>\n",
       "</table>\n",
       "</div>"
      ],
      "text/plain": [
       "  spatiallegendre nuclide score      mean  std. dev.\n",
       "0              P0   total  flux  3.65e+01   7.85e-02\n",
       "1              P1   total  flux -1.21e-02   4.31e-02\n",
       "2              P2   total  flux -4.42e+00   2.55e-02\n",
       "3              P3   total  flux -5.60e-03   2.16e-02\n",
       "4              P4   total  flux -2.77e-01   1.38e-02\n",
       "5              P5   total  flux  1.36e-03   1.18e-02\n",
       "6              P6   total  flux  1.24e-01   9.63e-03\n",
       "7              P7   total  flux  4.96e-03   8.72e-03\n",
       "8              P8   total  flux -1.03e-01   7.81e-03"
      ]
     },
     "execution_count": 9,
     "metadata": {},
     "output_type": "execute_result"
    }
   ],
   "source": [
    "df"
   ]
  },
  {
   "cell_type": "markdown",
   "metadata": {},
   "source": [
    "Since the expansion coefficients are given as\n",
    "\n",
    "$$ a_n = \\frac{2n + 1}{2} \\int_{-1}^1 dz' P_n(z') \\phi(z')$$\n",
    "\n",
    "we just need to multiply the Legendre moments by $(2n + 1)/2$."
   ]
  },
  {
   "cell_type": "code",
   "execution_count": 10,
   "metadata": {},
   "outputs": [],
   "source": [
    "n = np.arange(order + 1)\n",
    "a_n = (2*n + 1)/2 * df['mean']"
   ]
  },
  {
   "cell_type": "markdown",
   "metadata": {},
   "source": [
    "To plot the flux distribution, we can use the `numpy.polynomial.Legendre` class which represents a truncated Legendre polynomial series. Since we really want to plot $\\phi(z)$ and not $\\phi(z')$ we first need to perform a change of variables. Since\n",
    "\n",
    "$$ \\lvert \\phi(z) dz \\rvert = \\lvert \\phi(z') dz' \\rvert $$\n",
    "\n",
    "and, for this case, $z = 10z'$, it follows that\n",
    "\n",
    "$$ \\phi(z) = \\frac{\\phi(z')}{10} = \\sum_{n=0}^N \\frac{a_n}{10} P_n(z'). $$"
   ]
  },
  {
   "cell_type": "code",
   "execution_count": 11,
   "metadata": {},
   "outputs": [],
   "source": [
    "phi = np.polynomial.Legendre(a_n/10, domain=(zmin, zmax))"
   ]
  },
  {
   "cell_type": "markdown",
   "metadata": {},
   "source": [
    "Let's plot it and see how our flux looks!"
   ]
  },
  {
   "cell_type": "code",
   "execution_count": 12,
   "metadata": {},
   "outputs": [
    {
     "data": {
      "text/plain": [
       "Text(0, 0.5, 'Flux [n/src]')"
      ]
     },
     "execution_count": 12,
     "metadata": {},
     "output_type": "execute_result"
    },
    {
     "data": {
      "image/png": "[encoded data removed]",
      "text/plain": [
       "<Figure size 432x288 with 1 Axes>"
      ]
     },
     "metadata": {
      "needs_background": "light"
     },
     "output_type": "display_data"
    }
   ],
   "source": [
    "z = np.linspace(zmin, zmax, 1000)\n",
    "plt.plot(z, phi(z))\n",
    "plt.xlabel('Z position [cm]')\n",
    "plt.ylabel('Flux [n/src]')"
   ]
  },
  {
   "cell_type": "markdown",
   "metadata": {},
   "source": [
    "As you might expect, we get a rough cosine shape but with a flux depression in the middle due to the boron slab that we introduced. To get a more accurate distribution, we'd likely need to use a higher order expansion.\n",
    "\n",
    "One more thing we can do is confirm that integrating the distribution gives us the same value as the first moment (since $P_0(z') = 1$). This can easily be done by numerically integrating using the trapezoidal rule:"
   ]
  },
  {
   "cell_type": "code",
   "execution_count": 13,
   "metadata": {},
   "outputs": [
    {
     "data": {
      "text/plain": [
       "36.53891107688235"
      ]
     },
     "execution_count": 13,
     "metadata": {},
     "output_type": "execute_result"
    }
   ],
   "source": [
    "np.trapz(phi(z), z)"
   ]
  },
  {
   "cell_type": "markdown",
   "metadata": {},
   "source": [
    "In addition to being able to tally Legendre moments, there are also functional expansion filters available for spherical harmonics (`SphericalHarmonicsFilter`) and Zernike polynomials over a unit disk (`ZernikeFilter`). A separate `LegendreFilter` class can also be used for determining Legendre scattering moments (i.e., an expansion of the scattering cosine, $\\mu$)."
   ]
  },
  {
   "cell_type": "markdown",
   "metadata": {},
   "source": [
    "## Zernike polynomials\n",
    "\n",
    "Now let's look at an example of functional expansion tallies using Zernike polynomials as the basis functions.\n",
    "\n",
    "In this example, we will determine the spatial dependence of the flux along the radial direction $r'$ and $/$ or azimuthal angle $\\theta$ by making a Zernike polynomial expansion. Let us represent the flux along the radial and azimuthal direction, $\\phi(r', \\theta)$, by the function\n",
    "\n",
    "$$ \\phi(r', \\theta) = \\sum\\limits_{n=0}^N \\sum\\limits_{m=-n}^n a_n^m Z_n^m(r', \n",
    "\\theta) $$\n",
    "\n",
    "where $r'$ is the position normalized to the range [0, r] (r is the radius of cylindrical geometry), and the azimuthal lies within the range [0, $ 2\\pi$]. \n",
    "\n",
    "Since $Z_n^m(r', \\theta)$ are known functions, we need to determine the expansion coefficients, $a_n^m$. By the orthogonality properties of the Zernike polynomials, one can deduce that the coefficients, $a_n^m$, are given by\n",
    "\n",
    "$$ a_n^m = k_n^m \\int_{0}^r dr' \\int_{0}^{2\\pi} d\\theta Z_n^m(r',\\theta) \\phi(r', \\theta).$$\n",
    "$$ k_n^m = \\frac{2n + 2}{\\pi}, m \\ne 0. $$\n",
    "$$ k_n^m = \\frac{n+1}{\\pi}, m = 0.$$\n",
    "\n",
    "Similarly, the problem reduces to finding the integral of the flux times each Zernike polynomial."
   ]
  },
  {
   "cell_type": "markdown",
   "metadata": {},
   "source": [
    "To begin with, let us first create a simple model. The model will be a pin-cell fuel material with vacuum boundary condition in both radial direction and axial direction."
   ]
  },
  {
   "cell_type": "code",
   "execution_count": 14,
   "metadata": {},
   "outputs": [],
   "source": [
    "# Define fuel \n",
    "fuel = openmc.Material()\n",
    "fuel.add_element('U', 1.0, enrichment=5.0)\n",
    "fuel.add_nuclide('O16', 2.0)\n",
    "fuel.set_density('g/cm3', 10.0)"
   ]
  },
  {
   "cell_type": "code",
   "execution_count": 15,
   "metadata": {},
   "outputs": [],
   "source": [
    "# Define surfaces used to construct regions\n",
    "zmin, zmax, radius = -1., 1., 0.5 \n",
    "pin = openmc.ZCylinder(x0=0.0, y0=0.0, r=radius, boundary_type='vacuum')\n",
    "bottom = openmc.ZPlane(z0=zmin, boundary_type='vacuum')\n",
    "top = openmc.ZPlane(z0=zmax, boundary_type='vacuum')\n",
    "\n",
    "# Create three cells and add them to geometry\n",
    "fuel = openmc.Cell(fill=fuel, region= -pin & +bottom & -top)\n",
    "geom = openmc.Geometry([fuel])"
   ]
  },
  {
   "cell_type": "markdown",
   "metadata": {},
   "source": [
    "For the starting source, we'll use a uniform distribution over the entire box geometry."
   ]
  },
  {
   "cell_type": "code",
   "execution_count": 16,
   "metadata": {},
   "outputs": [],
   "source": [
    "settings = openmc.Settings()\n",
    "spatial_dist = openmc.stats.Box(*geom.bounding_box)\n",
    "settings.source = openmc.Source(space=spatial_dist)\n",
    "settings.batches = 100\n",
    "settings.inactive = 20\n",
    "settings.particles = 100000"
   ]
  },
  {
   "cell_type": "markdown",
   "metadata": {},
   "source": [
    "Defining the tally is relatively straightforward. One simply needs to list 'flux' as a score and then add an expansion filter. For this case, we will want to use the `SpatialLegendreFilter`, `ZernikeFilter`, `ZernikeRadialFilter` classes which multiplies tally scores by Legendre, azimuthal Zernike and  radial-only Zernike polynomials evaluated on normalized spatial positions along radial and axial directions."
   ]
  },
  {
   "cell_type": "code",
   "execution_count": 17,
   "metadata": {},
   "outputs": [],
   "source": [
    "# Create a flux tally\n",
    "flux_tally_legendre = openmc.Tally()\n",
    "flux_tally_legendre.scores = ['flux']\n",
    "\n",
    "# Create a Legendre polynomial expansion filter and add to tally\n",
    "order = 10\n",
    "cell_filter = openmc.CellFilter(fuel)\n",
    "legendre_filter = openmc.SpatialLegendreFilter(order, 'z', zmin, zmax)\n",
    "flux_tally_legendre.filters = [cell_filter, legendre_filter]\n",
    "\n",
    "# Create a Zernike azimuthal polynomial expansion filter and add to tally \n",
    "flux_tally_zernike = openmc.Tally()\n",
    "flux_tally_zernike.scores = ['flux']\n",
    "zernike_filter = openmc.ZernikeFilter(order=order, x=0.0, y=0.0, r=radius)\n",
    "flux_tally_zernike.filters = [cell_filter, zernike_filter]\n",
    "\n",
    "# Create a Zernike radial polynomial expansion filter and add to tally \n",
    "flux_tally_zernike1d = openmc.Tally()\n",
    "flux_tally_zernike1d.scores = ['flux']\n",
    "zernike1d_filter = openmc.ZernikeRadialFilter(order=order, x=0.0, y=0.0, r=radius)\n",
    "flux_tally_zernike1d.filters = [cell_filter, zernike1d_filter]\n"
   ]
  },
  {
   "cell_type": "markdown",
   "metadata": {},
   "source": [
    "The last thing we need to do is create a `Tallies` collection and export the entire model, which we'll do using the `Model` convenience class."
   ]
  },
  {
   "cell_type": "code",
   "execution_count": 18,
   "metadata": {},
   "outputs": [],
   "source": [
    "tallies = openmc.Tallies([flux_tally_legendre, flux_tally_zernike, flux_tally_zernike1d])\n",
    "model = openmc.model.Model(geometry=geom, settings=settings, tallies=tallies)"
   ]
  },
  {
   "cell_type": "markdown",
   "metadata": {},
   "source": [
    "Running a simulation is now as simple as calling the `run()` method of `Model`."
   ]
  },
  {
   "cell_type": "code",
   "execution_count": 19,
   "metadata": {},
   "outputs": [],
   "source": [
    "sp_file = model.run(output=False)"
   ]
  },
  {
   "cell_type": "markdown",
   "metadata": {},
   "source": [
    "Now that the run is finished, we need to load the results from the statepoint file."
   ]
  },
  {
   "cell_type": "code",
   "execution_count": 20,
   "metadata": {},
   "outputs": [],
   "source": [
    "with openmc.StatePoint(sp_file) as sp:\n",
    "    df1 = sp.tallies[flux_tally_legendre.id].get_pandas_dataframe()"
   ]
  },
  {
   "cell_type": "markdown",
   "metadata": {},
   "source": [
    "We've used the `get_pandas_dataframe()` method that returns tally data as a Pandas dataframe. Let's see what the raw data looks like."
   ]
  },
  {
   "cell_type": "code",
   "execution_count": 21,
   "metadata": {},
   "outputs": [
    {
     "data": {
      "text/html": [
       "<div>\n",
       "<style scoped>\n",
       "    .dataframe tbody tr th:only-of-type {\n",
       "        vertical-align: middle;\n",
       "    }\n",
       "\n",
       "    .dataframe tbody tr th {\n",
       "        vertical-align: top;\n",
       "    }\n",
       "\n",
       "    .dataframe thead th {\n",
       "        text-align: right;\n",
       "    }\n",
       "</style>\n",
       "<table border=\"1\" class=\"dataframe\">\n",
       "  <thead>\n",
       "    <tr style=\"text-align: right;\">\n",
       "      <th></th>\n",
       "      <th>cell</th>\n",
       "      <th>spatiallegendre</th>\n",
       "      <th>nuclide</th>\n",
       "      <th>score</th>\n",
       "      <th>mean</th>\n",
       "      <th>std. dev.</th>\n",
       "    </tr>\n",
       "  </thead>\n",
       "  <tbody>\n",
       "    <tr>\n",
       "      <th>0</th>\n",
       "      <td>4</td>\n",
       "      <td>P0</td>\n",
       "      <td>total</td>\n",
       "      <td>flux</td>\n",
       "      <td>0.542523</td>\n",
       "      <td>0.000576</td>\n",
       "    </tr>\n",
       "    <tr>\n",
       "      <th>1</th>\n",
       "      <td>4</td>\n",
       "      <td>P1</td>\n",
       "      <td>total</td>\n",
       "      <td>flux</td>\n",
       "      <td>0.000616</td>\n",
       "      <td>0.000493</td>\n",
       "    </tr>\n",
       "    <tr>\n",
       "      <th>2</th>\n",
       "      <td>4</td>\n",
       "      <td>P2</td>\n",
       "      <td>total</td>\n",
       "      <td>flux</td>\n",
       "      <td>-0.055513</td>\n",
       "      <td>0.000316</td>\n",
       "    </tr>\n",
       "    <tr>\n",
       "      <th>3</th>\n",
       "      <td>4</td>\n",
       "      <td>P3</td>\n",
       "      <td>total</td>\n",
       "      <td>flux</td>\n",
       "      <td>-0.000066</td>\n",
       "      <td>0.000227</td>\n",
       "    </tr>\n",
       "    <tr>\n",
       "      <th>4</th>\n",
       "      <td>4</td>\n",
       "      <td>P4</td>\n",
       "      <td>total</td>\n",
       "      <td>flux</td>\n",
       "      <td>-0.001267</td>\n",
       "      <td>0.000214</td>\n",
       "    </tr>\n",
       "    <tr>\n",
       "      <th>5</th>\n",
       "      <td>4</td>\n",
       "      <td>P5</td>\n",
       "      <td>total</td>\n",
       "      <td>flux</td>\n",
       "      <td>-0.000476</td>\n",
       "      <td>0.000163</td>\n",
       "    </tr>\n",
       "    <tr>\n",
       "      <th>6</th>\n",
       "      <td>4</td>\n",
       "      <td>P6</td>\n",
       "      <td>total</td>\n",
       "      <td>flux</td>\n",
       "      <td>-0.000051</td>\n",
       "      <td>0.000140</td>\n",
       "    </tr>\n",
       "    <tr>\n",
       "      <th>7</th>\n",
       "      <td>4</td>\n",
       "      <td>P7</td>\n",
       "      <td>total</td>\n",
       "      <td>flux</td>\n",
       "      <td>0.000396</td>\n",
       "      <td>0.000141</td>\n",
       "    </tr>\n",
       "    <tr>\n",
       "      <th>8</th>\n",
       "      <td>4</td>\n",
       "      <td>P8</td>\n",
       "      <td>total</td>\n",
       "      <td>flux</td>\n",
       "      <td>-0.000190</td>\n",
       "      <td>0.000137</td>\n",
       "    </tr>\n",
       "    <tr>\n",
       "      <th>9</th>\n",
       "      <td>4</td>\n",
       "      <td>P9</td>\n",
       "      <td>total</td>\n",
       "      <td>flux</td>\n",
       "      <td>0.000040</td>\n",
       "      <td>0.000106</td>\n",
       "    </tr>\n",
       "    <tr>\n",
       "      <th>10</th>\n",
       "      <td>4</td>\n",
       "      <td>P10</td>\n",
       "      <td>total</td>\n",
       "      <td>flux</td>\n",
       "      <td>-0.000153</td>\n",
       "      <td>0.000114</td>\n",
       "    </tr>\n",
       "  </tbody>\n",
       "</table>\n",
       "</div>"
      ],
      "text/plain": [
       "    cell spatiallegendre nuclide score      mean  std. dev.\n",
       "0      4              P0   total  flux  5.43e-01   5.76e-04\n",
       "1      4              P1   total  flux  6.16e-04   4.93e-04\n",
       "2      4              P2   total  flux -5.55e-02   3.16e-04\n",
       "3      4              P3   total  flux -6.56e-05   2.27e-04\n",
       "4      4              P4   total  flux -1.27e-03   2.14e-04\n",
       "5      4              P5   total  flux -4.76e-04   1.63e-04\n",
       "6      4              P6   total  flux -5.08e-05   1.40e-04\n",
       "7      4              P7   total  flux  3.96e-04   1.41e-04\n",
       "8      4              P8   total  flux -1.90e-04   1.37e-04\n",
       "9      4              P9   total  flux  4.04e-05   1.06e-04\n",
       "10     4             P10   total  flux -1.53e-04   1.14e-04"
      ]
     },
     "execution_count": 21,
     "metadata": {},
     "output_type": "execute_result"
    }
   ],
   "source": [
    "df1"
   ]
  },
  {
   "cell_type": "markdown",
   "metadata": {},
   "source": [
    "Since the scaling factors for expansion coefficients will be provided by the Python API, thus, we do not need to multiply the moments by scaling factors."
   ]
  },
  {
   "cell_type": "code",
   "execution_count": 22,
   "metadata": {},
   "outputs": [],
   "source": [
    "a_n = df1['mean']"
   ]
  },
  {
   "cell_type": "markdown",
   "metadata": {},
   "source": [
    "Loading the coefficients is realized via calling the OpenMC Python API as follows:"
   ]
  },
  {
   "cell_type": "code",
   "execution_count": 23,
   "metadata": {},
   "outputs": [],
   "source": [
    "phi = openmc.legendre_from_expcoef(a_n, domain=(zmin, zmax))"
   ]
  },
  {
   "cell_type": "markdown",
   "metadata": {},
   "source": [
    "Let's plot it and see how our flux looks!"
   ]
  },
  {
   "cell_type": "code",
   "execution_count": 24,
   "metadata": {},
   "outputs": [
    {
     "data": {
      "text/plain": [
       "Text(0, 0.5, 'Flux [n/src]')"
      ]
     },
     "execution_count": 24,
     "metadata": {},
     "output_type": "execute_result"
    },
    {
     "data": {
      "image/png": "[encoded data removed]",
      "text/plain": [
       "<Figure size 432x288 with 1 Axes>"
      ]
     },
     "metadata": {
      "needs_background": "light"
     },
     "output_type": "display_data"
    }
   ],
   "source": [
    "z = np.linspace(zmin, zmax, 1000)\n",
    "plt.plot(z, phi(z))\n",
    "plt.xlabel('Z position [cm]')\n",
    "plt.ylabel('Flux [n/src]')"
   ]
  },
  {
   "cell_type": "markdown",
   "metadata": {},
   "source": [
    "A rough cosine shape is obtained. \n",
    "One can also numerically integrate the function using the trapezoidal rule."
   ]
  },
  {
   "cell_type": "code",
   "execution_count": 25,
   "metadata": {},
   "outputs": [
    {
     "data": {
      "text/plain": [
       "0.542522648365342"
      ]
     },
     "execution_count": 25,
     "metadata": {},
     "output_type": "execute_result"
    }
   ],
   "source": [
    "np.trapz(phi(z), z)"
   ]
  },
  {
   "cell_type": "markdown",
   "metadata": {},
   "source": [
    "The following cases show how to reconstruct the flux distribution Zernike polynomials tallied results."
   ]
  },
  {
   "cell_type": "code",
   "execution_count": 26,
   "metadata": {},
   "outputs": [],
   "source": [
    "with openmc.StatePoint(sp_file) as sp:\n",
    "    df2 = sp.tallies[flux_tally_zernike.id].get_pandas_dataframe()"
   ]
  },
  {
   "cell_type": "code",
   "execution_count": 27,
   "metadata": {},
   "outputs": [
    {
     "data": {
      "text/html": [
       "<div>\n",
       "<style scoped>\n",
       "    .dataframe tbody tr th:only-of-type {\n",
       "        vertical-align: middle;\n",
       "    }\n",
       "\n",
       "    .dataframe tbody tr th {\n",
       "        vertical-align: top;\n",
       "    }\n",
       "\n",
       "    .dataframe thead th {\n",
       "        text-align: right;\n",
       "    }\n",
       "</style>\n",
       "<table border=\"1\" class=\"dataframe\">\n",
       "  <thead>\n",
       "    <tr style=\"text-align: right;\">\n",
       "      <th></th>\n",
       "      <th>cell</th>\n",
       "      <th>zernike</th>\n",
       "      <th>nuclide</th>\n",
       "      <th>score</th>\n",
       "      <th>mean</th>\n",
       "      <th>std. dev.</th>\n",
       "    </tr>\n",
       "  </thead>\n",
       "  <tbody>\n",
       "    <tr>\n",
       "      <th>0</th>\n",
       "      <td>4</td>\n",
       "      <td>Z0,0</td>\n",
       "      <td>total</td>\n",
       "      <td>flux</td>\n",
       "      <td>0.542523</td>\n",
       "      <td>0.000576</td>\n",
       "    </tr>\n",
       "    <tr>\n",
       "      <th>1</th>\n",
       "      <td>4</td>\n",
       "      <td>Z1,-1</td>\n",
       "      <td>total</td>\n",
       "      <td>flux</td>\n",
       "      <td>0.000462</td>\n",
       "      <td>0.000298</td>\n",
       "    </tr>\n",
       "    <tr>\n",
       "      <th>2</th>\n",
       "      <td>4</td>\n",
       "      <td>Z1,1</td>\n",
       "      <td>total</td>\n",
       "      <td>flux</td>\n",
       "      <td>0.000572</td>\n",
       "      <td>0.000323</td>\n",
       "    </tr>\n",
       "    <tr>\n",
       "      <th>3</th>\n",
       "      <td>4</td>\n",
       "      <td>Z2,-2</td>\n",
       "      <td>total</td>\n",
       "      <td>flux</td>\n",
       "      <td>0.000362</td>\n",
       "      <td>0.000228</td>\n",
       "    </tr>\n",
       "    <tr>\n",
       "      <th>4</th>\n",
       "      <td>4</td>\n",
       "      <td>Z2,0</td>\n",
       "      <td>total</td>\n",
       "      <td>flux</td>\n",
       "      <td>-0.064447</td>\n",
       "      <td>0.000328</td>\n",
       "    </tr>\n",
       "    <tr>\n",
       "      <th>...</th>\n",
       "      <td>...</td>\n",
       "      <td>...</td>\n",
       "      <td>...</td>\n",
       "      <td>...</td>\n",
       "      <td>...</td>\n",
       "      <td>...</td>\n",
       "    </tr>\n",
       "    <tr>\n",
       "      <th>61</th>\n",
       "      <td>4</td>\n",
       "      <td>Z10,2</td>\n",
       "      <td>total</td>\n",
       "      <td>flux</td>\n",
       "      <td>-0.000015</td>\n",
       "      <td>0.000105</td>\n",
       "    </tr>\n",
       "    <tr>\n",
       "      <th>62</th>\n",
       "      <td>4</td>\n",
       "      <td>Z10,4</td>\n",
       "      <td>total</td>\n",
       "      <td>flux</td>\n",
       "      <td>0.000081</td>\n",
       "      <td>0.000098</td>\n",
       "    </tr>\n",
       "    <tr>\n",
       "      <th>63</th>\n",
       "      <td>4</td>\n",
       "      <td>Z10,6</td>\n",
       "      <td>total</td>\n",
       "      <td>flux</td>\n",
       "      <td>0.000194</td>\n",
       "      <td>0.000094</td>\n",
       "    </tr>\n",
       "    <tr>\n",
       "      <th>64</th>\n",
       "      <td>4</td>\n",
       "      <td>Z10,8</td>\n",
       "      <td>total</td>\n",
       "      <td>flux</td>\n",
       "      <td>-0.000055</td>\n",
       "      <td>0.000090</td>\n",
       "    </tr>\n",
       "    <tr>\n",
       "      <th>65</th>\n",
       "      <td>4</td>\n",
       "      <td>Z10,10</td>\n",
       "      <td>total</td>\n",
       "      <td>flux</td>\n",
       "      <td>0.000091</td>\n",
       "      <td>0.000081</td>\n",
       "    </tr>\n",
       "  </tbody>\n",
       "</table>\n",
       "<p>66 rows × 6 columns</p>\n",
       "</div>"
      ],
      "text/plain": [
       "    cell zernike nuclide score      mean  std. dev.\n",
       "0      4    Z0,0   total  flux  5.43e-01   5.76e-04\n",
       "1      4   Z1,-1   total  flux  4.62e-04   2.98e-04\n",
       "2      4    Z1,1   total  flux  5.72e-04   3.23e-04\n",
       "3      4   Z2,-2   total  flux  3.62e-04   2.28e-04\n",
       "4      4    Z2,0   total  flux -6.44e-02   3.28e-04\n",
       "..   ...     ...     ...   ...       ...        ...\n",
       "61     4   Z10,2   total  flux -1.50e-05   1.05e-04\n",
       "62     4   Z10,4   total  flux  8.10e-05   9.77e-05\n",
       "63     4   Z10,6   total  flux  1.94e-04   9.42e-05\n",
       "64     4   Z10,8   total  flux -5.53e-05   9.02e-05\n",
       "65     4  Z10,10   total  flux  9.11e-05   8.06e-05\n",
       "\n",
       "[66 rows x 6 columns]"
      ]
     },
     "execution_count": 27,
     "metadata": {},
     "output_type": "execute_result"
    }
   ],
   "source": [
    "df2"
   ]
  },
  {
   "cell_type": "markdown",
   "metadata": {},
   "source": [
    "Let's plot the flux in radial direction with specific azimuthal angle ($\\theta = 0.0$)."
   ]
  },
  {
   "cell_type": "code",
   "execution_count": 28,
   "metadata": {},
   "outputs": [
    {
     "data": {
      "text/plain": [
       "Text(0, 0.5, 'Flux')"
      ]
     },
     "execution_count": 28,
     "metadata": {},
     "output_type": "execute_result"
    },
    {
     "data": {
      "image/png": "[encoded data removed]",
      "text/plain": [
       "<Figure size 432x288 with 1 Axes>"
      ]
     },
     "metadata": {
      "needs_background": "light"
     },
     "output_type": "display_data"
    }
   ],
   "source": [
    "z_n = df2['mean'] \n",
    "zz = openmc.Zernike(z_n, radius)\n",
    "rr = np.linspace(0, radius, 100)\n",
    "plt.plot(rr, zz(rr, 0.0)) \n",
    "plt.xlabel('Radial position [cm]')\n",
    "plt.ylabel('Flux')"
   ]
  },
  {
   "cell_type": "markdown",
   "metadata": {},
   "source": [
    "A polar figure with all azimuthal can be plotted like this:"
   ]
  },
  {
   "cell_type": "code",
   "execution_count": 29,
   "metadata": {},
   "outputs": [
    {
     "data": {
      "image/png": "[encoded data removed]",
      "text/plain": [
       "<Figure size 432x288 with 1 Axes>"
      ]
     },
     "metadata": {
      "needs_background": "light"
     },
     "output_type": "display_data"
    }
   ],
   "source": [
    "z_n = df2['mean']\n",
    "zz = openmc.Zernike(z_n, radius=radius) \n",
    "#\n",
    "# Using linspace so that the endpoint of 360 is included...\n",
    "azimuths = np.radians(np.linspace(0, 360, 50))\n",
    "zeniths = np.linspace(0, radius, 100)\n",
    "r, theta = np.meshgrid(zeniths, azimuths)\n",
    "values = zz(zeniths, azimuths)\n",
    "fig, ax = plt.subplots(subplot_kw=dict(projection='polar'))\n",
    "ax.contourf(theta, r, values, cmap='jet')\n",
    "plt.show()"
   ]
  },
  {
   "cell_type": "markdown",
   "metadata": {},
   "source": [
    "Sometimes, we just need the radial-only Zernike polynomial tallied flux distribution. \n",
    "Let us extract the tallied coefficients first."
   ]
  },
  {
   "cell_type": "code",
   "execution_count": 30,
   "metadata": {},
   "outputs": [],
   "source": [
    "with openmc.StatePoint(sp_file) as sp:\n",
    "    df3 = sp.tallies[flux_tally_zernike1d.id].get_pandas_dataframe()"
   ]
  },
  {
   "cell_type": "code",
   "execution_count": 31,
   "metadata": {},
   "outputs": [
    {
     "data": {
      "text/html": [
       "<div>\n",
       "<style scoped>\n",
       "    .dataframe tbody tr th:only-of-type {\n",
       "        vertical-align: middle;\n",
       "    }\n",
       "\n",
       "    .dataframe tbody tr th {\n",
       "        vertical-align: top;\n",
       "    }\n",
       "\n",
       "    .dataframe thead th {\n",
       "        text-align: right;\n",
       "    }\n",
       "</style>\n",
       "<table border=\"1\" class=\"dataframe\">\n",
       "  <thead>\n",
       "    <tr style=\"text-align: right;\">\n",
       "      <th></th>\n",
       "      <th>cell</th>\n",
       "      <th>zernikeradial</th>\n",
       "      <th>nuclide</th>\n",
       "      <th>score</th>\n",
       "      <th>mean</th>\n",
       "      <th>std. dev.</th>\n",
       "    </tr>\n",
       "  </thead>\n",
       "  <tbody>\n",
       "    <tr>\n",
       "      <th>0</th>\n",
       "      <td>4</td>\n",
       "      <td>Z0,0</td>\n",
       "      <td>total</td>\n",
       "      <td>flux</td>\n",
       "      <td>0.542523</td>\n",
       "      <td>0.000576</td>\n",
       "    </tr>\n",
       "    <tr>\n",
       "      <th>1</th>\n",
       "      <td>4</td>\n",
       "      <td>Z2,0</td>\n",
       "      <td>total</td>\n",
       "      <td>flux</td>\n",
       "      <td>-0.064447</td>\n",
       "      <td>0.000328</td>\n",
       "    </tr>\n",
       "    <tr>\n",
       "      <th>2</th>\n",
       "      <td>4</td>\n",
       "      <td>Z4,0</td>\n",
       "      <td>total</td>\n",
       "      <td>flux</td>\n",
       "      <td>0.000327</td>\n",
       "      <td>0.000264</td>\n",
       "    </tr>\n",
       "    <tr>\n",
       "      <th>3</th>\n",
       "      <td>4</td>\n",
       "      <td>Z6,0</td>\n",
       "      <td>total</td>\n",
       "      <td>flux</td>\n",
       "      <td>-0.000730</td>\n",
       "      <td>0.000182</td>\n",
       "    </tr>\n",
       "    <tr>\n",
       "      <th>4</th>\n",
       "      <td>4</td>\n",
       "      <td>Z8,0</td>\n",
       "      <td>total</td>\n",
       "      <td>flux</td>\n",
       "      <td>-0.000073</td>\n",
       "      <td>0.000145</td>\n",
       "    </tr>\n",
       "    <tr>\n",
       "      <th>5</th>\n",
       "      <td>4</td>\n",
       "      <td>Z10,0</td>\n",
       "      <td>total</td>\n",
       "      <td>flux</td>\n",
       "      <td>-0.000176</td>\n",
       "      <td>0.000155</td>\n",
       "    </tr>\n",
       "  </tbody>\n",
       "</table>\n",
       "</div>"
      ],
      "text/plain": [
       "   cell zernikeradial nuclide score      mean  std. dev.\n",
       "0     4          Z0,0   total  flux  5.43e-01   5.76e-04\n",
       "1     4          Z2,0   total  flux -6.44e-02   3.28e-04\n",
       "2     4          Z4,0   total  flux  3.27e-04   2.64e-04\n",
       "3     4          Z6,0   total  flux -7.30e-04   1.82e-04\n",
       "4     4          Z8,0   total  flux -7.25e-05   1.45e-04\n",
       "5     4         Z10,0   total  flux -1.76e-04   1.55e-04"
      ]
     },
     "execution_count": 31,
     "metadata": {},
     "output_type": "execute_result"
    }
   ],
   "source": [
    "df3"
   ]
  },
  {
   "cell_type": "markdown",
   "metadata": {},
   "source": [
    "A plot along with r-axis is also done."
   ]
  },
  {
   "cell_type": "code",
   "execution_count": 32,
   "metadata": {},
   "outputs": [
    {
     "data": {
      "text/plain": [
       "Text(0, 0.5, 'Flux')"
      ]
     },
     "execution_count": 32,
     "metadata": {},
     "output_type": "execute_result"
    },
    {
     "data": {
      "image/png": "[encoded data removed]",
      "text/plain": [
       "<Figure size 432x288 with 1 Axes>"
      ]
     },
     "metadata": {
      "needs_background": "light"
     },
     "output_type": "display_data"
    }
   ],
   "source": [
    "z_n = df3['mean']  \n",
    "zz = openmc.ZernikeRadial(z_n, radius=radius)\n",
    "rr = np.linspace(0, radius, 50)\n",
    "plt.plot(rr, zz(rr)) \n",
    "plt.xlabel('Radial position [cm]')\n",
    "plt.ylabel('Flux')"
   ]
  },
  {
   "cell_type": "markdown",
   "metadata": {},
   "source": [
    "Similarly, we can also re-construct the polar figure based on radial-only Zernike polinomial coefficients. "
   ]
  },
  {
   "cell_type": "code",
   "execution_count": 33,
   "metadata": {},
   "outputs": [
    {
     "data": {
      "image/png": "[encoded data removed]",
      "text/plain": [
       "<Figure size 432x432 with 1 Axes>"
      ]
     },
     "metadata": {
      "needs_background": "light"
     },
     "output_type": "display_data"
    }
   ],
   "source": [
    "z_n = df3['mean']  \n",
    "zz = openmc.ZernikeRadial(z_n, radius=radius)\n",
    "azimuths = np.radians(np.linspace(0, 360, 50))\n",
    "zeniths = np.linspace(0, radius, 100)\n",
    "r, theta = np.meshgrid(zeniths, azimuths)\n",
    "values = [[i for i in zz(zeniths)] for j in range(len(azimuths))]\n",
    "fig, ax = plt.subplots(subplot_kw=dict(projection='polar'), figsize=(6,6))\n",
    "ax.contourf(theta, r, values, cmap='jet')\n",
    "plt.show()"
   ]
  },
  {
   "cell_type": "markdown",
   "metadata": {},
   "source": [
    "Based on Legendre polynomial coefficients and the azimuthal or radial-only Zernike coefficient, it's possible to reconstruct the flux both on radial and axial directions. "
   ]
  },
  {
   "cell_type": "code",
   "execution_count": 34,
   "metadata": {},
   "outputs": [
    {
     "data": {
      "text/plain": [
       "<matplotlib.colorbar.Colorbar at 0x7f92f6e3f8b0>"
      ]
     },
     "execution_count": 34,
     "metadata": {},
     "output_type": "execute_result"
    },
    {
     "data": {
      "image/png": "[encoded data removed]",
      "text/plain": [
       "<Figure size 360x720 with 2 Axes>"
      ]
     },
     "metadata": {
      "needs_background": "light"
     },
     "output_type": "display_data"
    }
   ],
   "source": [
    "# Reconstruct 3-D flux based on radial only Zernike and Legendre polynomials\n",
    "z_n = df3['mean']  \n",
    "zz = openmc.ZernikeRadial(z_n, radius=radius)\n",
    "azimuths = np.radians(np.linspace(0, 360, 100)) # azimuthal mesh \n",
    "zeniths = np.linspace(0, radius, 100) # radial mesh \n",
    "zmin, zmax = -1.0, 1.0 \n",
    "z = np.linspace(zmin, zmax, 100) # axial mesh \n",
    "# \n",
    "# flux = np.matmul(np.matrix(phi(z)).transpose(), np.matrix(zz(zeniths))) \n",
    "# flux = np.array(flux) # change np.matrix to np.array\n",
    "# np.matrix is not recommended for use anymore\n",
    "flux = np.array([phi(z)]).T @ np.array([zz(zeniths)])\n",
    "#\n",
    "plt.figure(figsize=(5,10))\n",
    "plt.title('Flux distribution')\n",
    "plt.xlabel('Radial Position [cm]')\n",
    "plt.ylabel('Axial Height [cm]')\n",
    "plt.pcolor(zeniths, z, flux, cmap='jet')\n",
    "plt.colorbar()"
   ]
  },
  {
   "cell_type": "markdown",
   "metadata": {},
   "source": [
    "One can also reconstruct the 3D flux distribution based on Legendre and Zernike polynomial tallied coefficients."
   ]
  },
  {
   "cell_type": "code",
   "execution_count": 35,
   "metadata": {},
   "outputs": [],
   "source": [
    "# Define needed function first \n",
    "def cart2pol(x, y):\n",
    "    rho = np.sqrt(x**2 + y**2)\n",
    "    phi = np.arctan2(y, x)\n",
    "    return(rho, phi)\n",
    "\n",
    "# Reconstruct 3-D flux based on azimuthal Zernike and Legendre polynomials\n",
    "z_n = df2['mean']\n",
    "zz = openmc.Zernike(z_n, radius=radius) \n",
    "#\n",
    "xstep = 2.0*radius/20\n",
    "hstep = (zmax - zmin)/20\n",
    "x = np.linspace(-radius, radius, 50)\n",
    "x = np.array(x)\n",
    "[X,Y] = np.meshgrid(x,x)\n",
    "h = np.linspace(zmin, zmax, 50)\n",
    "h = np.array(h)\n",
    "[r, theta] = cart2pol(X,Y)\n",
    "flux3d = np.zeros((len(x), len(x), len(h)))\n",
    "flux3d.fill(np.nan)\n",
    "#\n",
    "for i in range(len(x)):\n",
    "    for j in range(len(x)):\n",
    "        if r[i][j]<=radius:\n",
    "            for k in range(len(h)):\n",
    "                flux3d[i][j][k] = phi(h[k]) * zz(r[i][j], theta[i][j])"
   ]
  },
  {
   "cell_type": "markdown",
   "metadata": {},
   "source": [
    "Let us print out with VTK format."
   ]
  },
  {
   "cell_type": "code",
   "execution_count": 36,
   "metadata": {},
   "outputs": [],
   "source": [
    "# You'll need to install pyevtk as a prerequisite\n",
    "from pyevtk.hl import gridToVTK\n",
    "import numpy as np\n",
    "#\n",
    "# Dimensions\n",
    "nx, ny, nz = len(x), len(x), len(h)\n",
    "lx, ly, lz = 2.0*radius, 2.0*radius, (zmax-zmin)\n",
    "dx, dy, dz = lx/nx, ly/ny, lz/nz\n",
    "#\n",
    "ncells = nx * ny * nz\n",
    "npoints = (nx + 1) * (ny + 1) * (nz + 1)\n",
    "#\n",
    "# Coordinates\n",
    "x = np.arange(0, lx + 0.1*dx, dx, dtype='float64')\n",
    "y = np.arange(0, ly + 0.1*dy, dy, dtype='float64')\n",
    "z = np.arange(0, lz + 0.1*dz, dz, dtype='float64')\n",
    "# Print out \n",
    "path = gridToVTK(\"./rectilinear\", x, y, z, cellData = {\"flux3d\" : flux3d})"
   ]
  },
  {
   "cell_type": "markdown",
   "metadata": {},
   "source": [
    "Use VisIt or ParaView to plot it as you want. Then, the plot can be loaded and shown as follows."
   ]
  },
  {
   "cell_type": "code",
   "execution_count": 37,
   "metadata": {},
   "outputs": [
    {
     "data": {
      "text/plain": [
       "<matplotlib.image.AxesImage at 0x7f92f69934c0>"
      ]
     },
     "execution_count": 37,
     "metadata": {},
     "output_type": "execute_result"
    },
    {
     "data": {
      "image/png": "[encoded data removed]",
      "text/plain": [
       "<Figure size 432x288 with 1 Axes>"
      ]
     },
     "metadata": {
      "needs_background": "light"
     },
     "output_type": "display_data"
    }
   ],
   "source": [
    "f1 = plt.imread('./images/flux3d.png')\n",
    "plt.imshow(f1, cmap='jet')"
   ]
  }
 ],
 "metadata": {
  "kernelspec": {
   "display_name": "Python 3 (ipykernel)",
   "language": "python",
   "name": "python3"
  },
  "language_info": {
   "codemirror_mode": {
    "name": "ipython",
    "version": 3
   },
   "file_extension": ".py",
   "mimetype": "text/x-python",
   "name": "python",
   "nbconvert_exporter": "python",
   "pygments_lexer": "ipython3",
   "version": "3.9.1"
  }
 },
 "nbformat": 4,
 "nbformat_minor": 4
}
