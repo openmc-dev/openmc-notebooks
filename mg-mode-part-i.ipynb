{
 "cells": [
  {
   "cell_type": "markdown",
   "metadata": {},
   "source": [
    "# Multigroup Mode Part I: Introduction\n",
    "This Notebook illustrates the usage of OpenMC's multi-group calculational mode with the Python API. This example notebook creates and executes the 2-D [C5G7](https://www.oecd-nea.org/jcms/pl_17882) benchmark model using the `openmc.MGXSLibrary` class to create the supporting data library on the fly."
   ]
  },
  {
   "cell_type": "markdown",
   "metadata": {},
   "source": [
    "## Generate MGXS Library"
   ]
  },
  {
   "cell_type": "code",
   "execution_count": 1,
   "metadata": {},
   "outputs": [],
   "source": [
    "import os\n",
    "\n",
    "import matplotlib.pyplot as plt\n",
    "import matplotlib.colors as colors\n",
    "import numpy as np\n",
    "\n",
    "import openmc\n",
    "\n",
    "%matplotlib inline"
   ]
  },
  {
   "cell_type": "code",
   "execution_count": 2,
   "metadata": {},
   "outputs": [],
   "source": [
    "# create a model to tie together geometry, materials, settings, and tallies\n",
    "model = openmc.Model()"
   ]
  },
  {
   "cell_type": "markdown",
   "metadata": {},
   "source": [
    "We will now create the multi-group library using data directly from Appendix A of the [C5G7](https://www.oecd-nea.org/jcms/pl_17882) benchmark documentation. All of the data below will be created at 294K, consistent with the benchmark.\n",
    "\n",
    "This notebook will first begin by setting the group structure and building the groupwise data for UO2.  As you can see, the cross sections are input in the order of increasing groups (or decreasing energy).\n",
    "\n",
    "*Note*: The C5G7 benchmark uses transport-corrected cross sections. So the total cross section we input here will technically be the transport cross section."
   ]
  },
  {
   "cell_type": "code",
   "execution_count": 3,
   "metadata": {},
   "outputs": [],
   "source": [
    "# Create a 7-group structure with arbitrary boundaries (the specific boundaries are unimportant)\n",
    "groups = openmc.mgxs.EnergyGroups(np.logspace(-5, 7, 8))\n",
    "\n",
    "uo2_xsdata = openmc.XSdata('uo2', groups)\n",
    "uo2_xsdata.order = 0\n",
    "\n",
    "# When setting the data let the object know you are setting the data for a temperature of 294K.\n",
    "uo2_xsdata.set_total([1.77949E-1, 3.29805E-1, 4.80388E-1, 5.54367E-1,\n",
    "                      3.11801E-1, 3.95168E-1, 5.64406E-1], temperature=294.)\n",
    "\n",
    "uo2_xsdata.set_absorption([8.0248E-03, 3.7174E-3, 2.6769E-2, 9.6236E-2,\n",
    "                           3.0020E-02, 1.1126E-1, 2.8278E-1], temperature=294.)\n",
    "uo2_xsdata.set_fission([7.21206E-3, 8.19301E-4, 6.45320E-3, 1.85648E-2,\n",
    "                        1.78084E-2, 8.30348E-2, 2.16004E-1], temperature=294.)\n",
    "\n",
    "uo2_xsdata.set_nu_fission([2.005998E-2, 2.027303E-3, 1.570599E-2, 4.518301E-2,\n",
    "                           4.334208E-2, 2.020901E-1, 5.257105E-1], temperature=294.)\n",
    "\n",
    "uo2_xsdata.set_chi([5.87910E-1, 4.11760E-1, 3.39060E-4, 1.17610E-7,\n",
    "                    0.00000E-0, 0.00000E-0, 0.00000E-0], temperature=294.)"
   ]
  },
  {
   "cell_type": "markdown",
   "metadata": {},
   "source": [
    "We will now add the scattering matrix data. \n",
    "\n",
    "*Note*: Most users familiar with deterministic transport libraries are already familiar with the idea of entering one scattering matrix for every order (i.e. scattering order as the outer dimension). However, the shape of OpenMC's scattering matrix entry is instead [Incoming groups, Outgoing Groups, Scattering Order] to best enable other scattering representations. We will follow the more familiar approach in this notebook, and then use numpy's `numpy.rollaxis` function to change the ordering to what we need (scattering order on the inner dimension)."
   ]
  },
  {
   "cell_type": "code",
   "execution_count": 4,
   "metadata": {},
   "outputs": [],
   "source": [
    "# The scattering matrix is ordered with incoming groups as rows and outgoing groups as columns\n",
    "# (i.e., below the diagonal is up-scattering).\n",
    "scatter_matrix = \\\n",
    "    [[[1.27537E-1, 4.23780E-2, 9.43740E-6, 5.51630E-9, 0.00000E-0, 0.00000E-0, 0.00000E-0],\n",
    "      [0.00000E-0, 3.24456E-1, 1.63140E-3, 3.14270E-9, 0.00000E-0, 0.00000E-0, 0.00000E-0],\n",
    "      [0.00000E-0, 0.00000E-0, 4.50940E-1, 2.67920E-3, 0.00000E-0, 0.00000E-0, 0.00000E-0],\n",
    "      [0.00000E-0, 0.00000E-0, 0.00000E-0, 4.52565E-1, 5.56640E-3, 0.00000E-0, 0.00000E-0],\n",
    "      [0.00000E-0, 0.00000E-0, 0.00000E-0, 1.25250E-4, 2.71401E-1, 1.02550E-2, 1.00210E-8],\n",
    "      [0.00000E-0, 0.00000E-0, 0.00000E-0, 0.00000E-0, 1.29680E-3, 2.65802E-1, 1.68090E-2],\n",
    "      [0.00000E-0, 0.00000E-0, 0.00000E-0, 0.00000E-0, 0.00000E-0, 8.54580E-3, 2.73080E-1]]]\n",
    "scatter_matrix = np.array(scatter_matrix)\n",
    "scatter_matrix = np.rollaxis(scatter_matrix, 0, 3)\n",
    "uo2_xsdata.set_scatter_matrix(scatter_matrix, temperature=294.)"
   ]
  },
  {
   "cell_type": "markdown",
   "metadata": {},
   "source": [
    "Now that the UO2 data has been created, we can move on to the remaining materials using the same process.\n",
    "\n",
    "However, we will actually skip repeating the above for now.  Our simulation will instead use the `c5g7.h5` file that has already been created using exactly the same logic as above, but for the remaining materials in the benchmark problem.\n",
    "\n",
    "For now we will show how you would use the `uo2_xsdata` information to create an `openmc.MGXSLibrary` object and write to disk."
   ]
  },
  {
   "cell_type": "code",
   "execution_count": 5,
   "metadata": {},
   "outputs": [],
   "source": [
    "# Initialize the library\n",
    "mg_cross_sections_file = openmc.MGXSLibrary(groups)\n",
    "\n",
    "# Add the UO2 data to it\n",
    "mg_cross_sections_file.add_xsdata(uo2_xsdata)\n",
    "\n",
    "# And write to disk\n",
    "mg_cross_sections_file.export_to_hdf5('mgxs.h5')"
   ]
  },
  {
   "cell_type": "markdown",
   "metadata": {},
   "source": [
    "## Generate 2-D C5G7 Problem Input Files"
   ]
  },
  {
   "cell_type": "markdown",
   "metadata": {},
   "source": [
    "To build the actual 2-D model, we will first begin by creating the `materials.xml` file.\n",
    "\n",
    "First we need to define materials that will be used in the problem. In other notebooks, either nuclides or elements were added to materials at the equivalent stage. We can do that in multi-group mode as well.  However, multi-group cross-sections are sometimes provided as macroscopic cross-sections; the C5G7 benchmark data are macroscopic. In this case, we can instead use the `Material.add_macroscopic` method to specify a macroscopic object. Unlike for nuclides and elements, we do not need provide information on atom/weight percents as no number densities are needed.\n",
    "\n",
    "When assigning macroscopic objects to a material, the density can still be scaled by setting the density to a value that is not 1.0. This would be useful, for example, when slightly perturbing the density of water due to a small change in temperature (while of course ignoring any resultant spectral shift). The density of a macroscopic dataset is set to 1.0 in the `openmc.Material` object by default when a macroscopic dataset is used; so we will show its use the first time and then afterwards it will not be required.\n",
    "\n",
    "Aside from these differences, the following code is very similar to similar code in other OpenMC example Notebooks."
   ]
  },
  {
   "cell_type": "code",
   "execution_count": 6,
   "metadata": {},
   "outputs": [],
   "source": [
    "# For every cross section data set in the library, assign an openmc.Macroscopic object to a material\n",
    "material_dict = {}\n",
    "for xs in ['uo2', 'mox43', 'mox7', 'mox87', 'fiss_chamber', 'guide_tube', 'water']:\n",
    "    material_dict[xs] = openmc.Material(name=xs)\n",
    "    material_dict[xs].set_density('macro', 1.)\n",
    "    material_dict[xs].add_macroscopic(xs)"
   ]
  },
  {
   "cell_type": "markdown",
   "metadata": {},
   "source": [
    "Now we can go ahead and produce a `materials.xml` file for use by OpenMC"
   ]
  },
  {
   "cell_type": "code",
   "execution_count": 7,
   "metadata": {},
   "outputs": [],
   "source": [
    "# Instantiate a Materials collection, register all Materials, and export to XML\n",
    "materials = openmc.Materials(material_dict.values())\n",
    "\n",
    "# Set the location of the cross sections file to our pre-written set\n",
    "materials.cross_sections = 'c5g7.h5'\n",
    "\n",
    "model.materials = materials"
   ]
  },
  {
   "cell_type": "markdown",
   "metadata": {},
   "source": [
    "Our next step will be to create the geometry information needed for our assembly and to write that to the `geometry.xml` file.\n",
    "\n",
    "We will begin by defining the surfaces, cells, and universes needed for each of the individual fuel pins, guide tubes, and fission chambers."
   ]
  },
  {
   "cell_type": "code",
   "execution_count": 8,
   "metadata": {},
   "outputs": [],
   "source": [
    "# Create the surface used for each pin\n",
    "pin_surf = openmc.ZCylinder(x0=0, y0=0, r=0.54, name='pin_surf')\n",
    "\n",
    "# Create the cells which will be used to represent each pin type.\n",
    "cells = {}\n",
    "universes = {}\n",
    "for material in material_dict.values():\n",
    "    # Create the cell for the material inside the cladding\n",
    "    cells[material.name] = openmc.Cell(name=material.name)\n",
    "    # Assign the half-spaces to the cell\n",
    "    cells[material.name].region = -pin_surf\n",
    "    # Register the material with this cell\n",
    "    cells[material.name].fill = material\n",
    "    \n",
    "    # Repeat the above for the material outside the cladding (i.e., the moderator)\n",
    "    cell_name = material.name + '_moderator'\n",
    "    cells[cell_name] = openmc.Cell(name=cell_name)\n",
    "    cells[cell_name].region = +pin_surf\n",
    "    cells[cell_name].fill = material_dict['water']\n",
    "    \n",
    "    # Finally add the two cells we just made to a Universe object\n",
    "    universes[material.name] = openmc.Universe(name=material.name)\n",
    "    universes[material.name].add_cells([cells[material.name], cells[cell_name]])"
   ]
  },
  {
   "cell_type": "markdown",
   "metadata": {},
   "source": [
    "The next step is to take our universes (representing the different pin types) and lay them out in a lattice to represent the assembly types"
   ]
  },
  {
   "cell_type": "code",
   "execution_count": 9,
   "metadata": {},
   "outputs": [],
   "source": [
    "lattices = {}\n",
    "\n",
    "# Instantiate the UO2 Lattice\n",
    "lattices['UO2 Assembly'] = openmc.RectLattice(name='UO2 Assembly')\n",
    "lattices['UO2 Assembly'].dimension = [17, 17]\n",
    "lattices['UO2 Assembly'].lower_left = [-10.71, -10.71]\n",
    "lattices['UO2 Assembly'].pitch = [1.26, 1.26]\n",
    "u = universes['uo2']\n",
    "g = universes['guide_tube']\n",
    "f = universes['fiss_chamber']\n",
    "lattices['UO2 Assembly'].universes = \\\n",
    "    [[u, u, u, u, u, u, u, u, u, u, u, u, u, u, u, u, u],\n",
    "     [u, u, u, u, u, u, u, u, u, u, u, u, u, u, u, u, u],\n",
    "     [u, u, u, u, u, g, u, u, g, u, u, g, u, u, u, u, u],\n",
    "     [u, u, u, g, u, u, u, u, u, u, u, u, u, g, u, u, u],\n",
    "     [u, u, u, u, u, u, u, u, u, u, u, u, u, u, u, u, u],\n",
    "     [u, u, g, u, u, g, u, u, g, u, u, g, u, u, g, u, u],\n",
    "     [u, u, u, u, u, u, u, u, u, u, u, u, u, u, u, u, u],\n",
    "     [u, u, u, u, u, u, u, u, u, u, u, u, u, u, u, u, u],\n",
    "     [u, u, g, u, u, g, u, u, f, u, u, g, u, u, g, u, u],\n",
    "     [u, u, u, u, u, u, u, u, u, u, u, u, u, u, u, u, u],\n",
    "     [u, u, u, u, u, u, u, u, u, u, u, u, u, u, u, u, u],\n",
    "     [u, u, g, u, u, g, u, u, g, u, u, g, u, u, g, u, u],\n",
    "     [u, u, u, u, u, u, u, u, u, u, u, u, u, u, u, u, u],\n",
    "     [u, u, u, g, u, u, u, u, u, u, u, u, u, g, u, u, u],\n",
    "     [u, u, u, u, u, g, u, u, g, u, u, g, u, u, u, u, u],\n",
    "     [u, u, u, u, u, u, u, u, u, u, u, u, u, u, u, u, u],\n",
    "     [u, u, u, u, u, u, u, u, u, u, u, u, u, u, u, u, u]]\n",
    "    \n",
    "# Create a containing cell and universe\n",
    "cells['UO2 Assembly'] = openmc.Cell(name='UO2 Assembly')\n",
    "cells['UO2 Assembly'].fill = lattices['UO2 Assembly']\n",
    "universes['UO2 Assembly'] = openmc.Universe(name='UO2 Assembly')\n",
    "universes['UO2 Assembly'].add_cell(cells['UO2 Assembly'])\n",
    "\n",
    "# Instantiate the MOX Lattice\n",
    "lattices['MOX Assembly'] = openmc.RectLattice(name='MOX Assembly')\n",
    "lattices['MOX Assembly'].dimension = [17, 17]\n",
    "lattices['MOX Assembly'].lower_left = [-10.71, -10.71]\n",
    "lattices['MOX Assembly'].pitch = [1.26, 1.26]\n",
    "m = universes['mox43']\n",
    "n = universes['mox7']\n",
    "o = universes['mox87']\n",
    "g = universes['guide_tube']\n",
    "f = universes['fiss_chamber']\n",
    "lattices['MOX Assembly'].universes = \\\n",
    "    [[m, m, m, m, m, m, m, m, m, m, m, m, m, m, m, m, m],\n",
    "     [m, n, n, n, n, n, n, n, n, n, n, n, n, n, n, n, m],\n",
    "     [m, n, n, n, n, g, n, n, g, n, n, g, n, n, n, n, m],\n",
    "     [m, n, n, g, n, o, o, o, o, o, o, o, n, g, n, n, m],\n",
    "     [m, n, n, n, o, o, o, o, o, o, o, o, o, n, n, n, m],\n",
    "     [m, n, g, o, o, g, o, o, g, o, o, g, o, o, g, n, m],\n",
    "     [m, n, n, o, o, o, o, o, o, o, o, o, o, o, n, n, m],\n",
    "     [m, n, n, o, o, o, o, o, o, o, o, o, o, o, n, n, m],\n",
    "     [m, n, g, o, o, g, o, o, f, o, o, g, o, o, g, n, m],\n",
    "     [m, n, n, o, o, o, o, o, o, o, o, o, o, o, n, n, m],\n",
    "     [m, n, n, o, o, o, o, o, o, o, o, o, o, o, n, n, m],\n",
    "     [m, n, g, o, o, g, o, o, g, o, o, g, o, o, g, n, m],\n",
    "     [m, n, n, n, o, o, o, o, o, o, o, o, o, n, n, n, m],\n",
    "     [m, n, n, g, n, o, o, o, o, o, o, o, n, g, n, n, m],\n",
    "     [m, n, n, n, n, g, n, n, g, n, n, g, n, n, n, n, m],\n",
    "     [m, n, n, n, n, n, n, n, n, n, n, n, n, n, n, n, m],\n",
    "     [m, m, m, m, m, m, m, m, m, m, m, m, m, m, m, m, m]]\n",
    "    \n",
    "# Create a containing cell and universe\n",
    "cells['MOX Assembly'] = openmc.Cell(name='MOX Assembly')\n",
    "cells['MOX Assembly'].fill = lattices['MOX Assembly']\n",
    "universes['MOX Assembly'] = openmc.Universe(name='MOX Assembly')\n",
    "universes['MOX Assembly'].add_cell(cells['MOX Assembly'])\n",
    "    \n",
    "# Instantiate the reflector Lattice\n",
    "lattices['Reflector Assembly'] = openmc.RectLattice(name='Reflector Assembly')\n",
    "lattices['Reflector Assembly'].dimension = [1,1]\n",
    "lattices['Reflector Assembly'].lower_left = [-10.71, -10.71]\n",
    "lattices['Reflector Assembly'].pitch = [21.42, 21.42]\n",
    "lattices['Reflector Assembly'].universes = [[universes['water']]]\n",
    "\n",
    "# Create a containing cell and universe\n",
    "cells['Reflector Assembly'] = openmc.Cell(name='Reflector Assembly')\n",
    "cells['Reflector Assembly'].fill = lattices['Reflector Assembly']\n",
    "universes['Reflector Assembly'] = openmc.Universe(name='Reflector Assembly')\n",
    "universes['Reflector Assembly'].add_cell(cells['Reflector Assembly'])"
   ]
  },
  {
   "cell_type": "markdown",
   "metadata": {},
   "source": [
    "Let's now create the core layout in a 3x3 lattice where each lattice position is one of the assemblies we just defined.\n",
    "\n",
    "After that we can create the final cell to contain the entire core."
   ]
  },
  {
   "cell_type": "code",
   "execution_count": 10,
   "metadata": {},
   "outputs": [],
   "source": [
    "lattices['Core'] = openmc.RectLattice(name='3x3 core lattice')\n",
    "lattices['Core'].dimension= [3, 3]\n",
    "lattices['Core'].lower_left = [-32.13, -32.13]\n",
    "lattices['Core'].pitch = [21.42, 21.42]\n",
    "r = universes['Reflector Assembly']\n",
    "u = universes['UO2 Assembly']\n",
    "m = universes['MOX Assembly']\n",
    "lattices['Core'].universes = [[u, m, r],\n",
    "                              [m, u, r],\n",
    "                              [r, r, r]]\n",
    "\n",
    "# Create boundary planes to surround the geometry\n",
    "min_x = openmc.XPlane(x0=-32.13, boundary_type='reflective')\n",
    "max_x = openmc.XPlane(x0=+32.13, boundary_type='vacuum')\n",
    "min_y = openmc.YPlane(y0=-32.13, boundary_type='vacuum')\n",
    "max_y = openmc.YPlane(y0=+32.13, boundary_type='reflective')\n",
    "\n",
    "# Create root Cell\n",
    "root_cell = openmc.Cell(name='root cell')\n",
    "root_cell.fill = lattices['Core']\n",
    "\n",
    "# Add boundary planes\n",
    "root_cell.region = +min_x & -max_x & +min_y & -max_y\n",
    "\n",
    "# Create root Universe\n",
    "root_universe = openmc.Universe(name='root universe', universe_id=0)\n",
    "root_universe.add_cell(root_cell)"
   ]
  },
  {
   "cell_type": "markdown",
   "metadata": {},
   "source": [
    "Before we commit to the geometry, we should view it using the Python API's plotting capability"
   ]
  },
  {
   "cell_type": "code",
   "execution_count": 11,
   "metadata": {},
   "outputs": [
    {
     "data": {
      "text/plain": [
       "<matplotlib.image.AxesImage at 0x7f22b8fc6e50>"
      ]
     },
     "execution_count": 11,
     "metadata": {},
     "output_type": "execute_result"
    },
    {
     "data": {
      "image/png": "[encoded data removed]",
      "text/plain": [
       "<Figure size 645.161x662.252 with 1 Axes>"
      ]
     },
     "metadata": {
      "needs_background": "light"
     },
     "output_type": "display_data"
    }
   ],
   "source": [
    "# set the mgxs environment variable for plotting, use openmc.config in the future\n",
    "os.environ['OPENMC_MG_CROSS_SECTIONS'] = os.getcwd() + '/c5g7.h5'\n",
    "root_universe.plot(origin=(0., 0., 0.), width=(3 * 21.42, 3 * 21.42), pixels=(500, 500),\n",
    "                   color_by='material')"
   ]
  },
  {
   "cell_type": "markdown",
   "metadata": {},
   "source": [
    "OK, it looks pretty good, let's go ahead and write the file"
   ]
  },
  {
   "cell_type": "code",
   "execution_count": 12,
   "metadata": {},
   "outputs": [],
   "source": [
    "# Create Geometry and set root Universe\n",
    "geometry = openmc.Geometry(root_universe)\n",
    "\n",
    "model.geometry = geometry"
   ]
  },
  {
   "cell_type": "markdown",
   "metadata": {},
   "source": [
    "We can now create the tally file information. The tallies will be set up to  give us the pin powers in this notebook. We will do this with a mesh filter, with one mesh cell per pin."
   ]
  },
  {
   "cell_type": "code",
   "execution_count": 13,
   "metadata": {},
   "outputs": [],
   "source": [
    "tallies = openmc.Tallies()\n",
    "\n",
    "# Instantiate a tally Mesh\n",
    "mesh = openmc.RegularMesh()\n",
    "mesh.dimension = [17 * 2, 17 * 2]\n",
    "mesh.lower_left = [-32.13, -10.71]\n",
    "mesh.upper_right = [+10.71, +32.13]\n",
    "\n",
    "# Instantiate tally Filter\n",
    "mesh_filter = openmc.MeshFilter(mesh)\n",
    "\n",
    "# Instantiate the Tally\n",
    "tally = openmc.Tally(name='mesh tally')\n",
    "tally.filters = [mesh_filter]\n",
    "tally.scores = ['fission']\n",
    "\n",
    "# Add tally to collection\n",
    "tallies.append(tally)\n",
    "\n",
    "model.tallies = tallies"
   ]
  },
  {
   "cell_type": "markdown",
   "metadata": {},
   "source": [
    "With the geometry and materials finished, we now just need to define simulation parameters for the `settings.xml` file. Note the use of the `energy_mode` attribute of our `settings_file` object. This is used to tell OpenMC that we intend to run in multi-group mode instead of the default continuous-energy mode. If we didn't specify this but our cross sections file was not a continuous-energy data set, then OpenMC would complain.\n",
    "\n",
    "This will be a relatively coarse calculation with only 500,000 active histories. A benchmark-fidelity run would of course require many more!"
   ]
  },
  {
   "cell_type": "code",
   "execution_count": 14,
   "metadata": {},
   "outputs": [],
   "source": [
    "# OpenMC simulation parameters\n",
    "batches = 150\n",
    "inactive = 50\n",
    "particles = 5000\n",
    "\n",
    "# Instantiate a Settings object\n",
    "settings = openmc.Settings()\n",
    "settings.batches = batches\n",
    "settings.inactive = inactive\n",
    "settings.particles = particles\n",
    "\n",
    "# Tell OpenMC this is a multi-group problem\n",
    "settings.energy_mode = 'multi-group'\n",
    "\n",
    "# Set the verbosity to 6 so we dont see output for every batch\n",
    "settings.verbosity = 6\n",
    "\n",
    "# Create an initial uniform spatial source distribution over fissionable zones\n",
    "bounds = [-32.13, -10.71, -1e50, 10.71, 32.13, 1e50]\n",
    "uniform_dist = openmc.stats.Box(bounds[:3], bounds[3:], only_fissionable=True)\n",
    "settings.source = openmc.Source(space=uniform_dist)\n",
    "\n",
    "# Tell OpenMC we want to run in eigenvalue mode\n",
    "settings.run_mode = 'eigenvalue'\n",
    "\n",
    "model.settings = settings"
   ]
  },
  {
   "cell_type": "markdown",
   "metadata": {},
   "source": [
    "Let's go ahead and execute the simulation! You'll notice that the output for multi-group mode is exactly the same as for continuous-energy. The differences are all under the hood."
   ]
  },
  {
   "cell_type": "code",
   "execution_count": 15,
   "metadata": {},
   "outputs": [
    {
     "name": "stdout",
     "output_type": "stream",
     "text": [
      "                                %%%%%%%%%%%%%%%\n",
      "                           %%%%%%%%%%%%%%%%%%%%%%%%\n",
      "                        %%%%%%%%%%%%%%%%%%%%%%%%%%%%%%\n",
      "                      %%%%%%%%%%%%%%%%%%%%%%%%%%%%%%%%%%\n",
      "                    %%%%%%%%%%%%%%%%%%%%%%%%%%%%%%%%%%%%%%\n",
      "                   %%%%%%%%%%%%%%%%%%%%%%%%%%%%%%%%%%%%%%%%\n",
      "                                    %%%%%%%%%%%%%%%%%%%%%%%%\n",
      "                                     %%%%%%%%%%%%%%%%%%%%%%%%\n",
      "                 ###############      %%%%%%%%%%%%%%%%%%%%%%%%\n",
      "                ##################     %%%%%%%%%%%%%%%%%%%%%%%\n",
      "                ###################     %%%%%%%%%%%%%%%%%%%%%%%\n",
      "                ####################     %%%%%%%%%%%%%%%%%%%%%%\n",
      "                #####################     %%%%%%%%%%%%%%%%%%%%%\n",
      "                ######################     %%%%%%%%%%%%%%%%%%%%\n",
      "                #######################     %%%%%%%%%%%%%%%%%%\n",
      "                 #######################     %%%%%%%%%%%%%%%%%\n",
      "                 ######################     %%%%%%%%%%%%%%%%%\n",
      "                  ####################     %%%%%%%%%%%%%%%%%\n",
      "                    #################     %%%%%%%%%%%%%%%%%\n",
      "                     ###############     %%%%%%%%%%%%%%%%\n",
      "                       ############     %%%%%%%%%%%%%%%\n",
      "                          ########     %%%%%%%%%%%%%%\n",
      "                                      %%%%%%%%%%%\n",
      "\n",
      "                 | The OpenMC Monte Carlo Code\n",
      "       Copyright | 2011-2022 MIT, UChicago Argonne LLC, and contributors\n",
      "         License | https://docs.openmc.org/en/latest/license.html\n",
      "         Version | 0.13.1\n",
      "        Git SHA1 | 33bc948f4b855c037975f16d16091fe4ecd12de3\n",
      "       Date/Time | 2022-10-05 22:19:28\n",
      "   MPI Processes | 1\n",
      "  OpenMP Threads | 2\n",
      "\n",
      " Reading settings XML file...\n",
      " Reading cross sections HDF5 file...\n",
      " Reading materials XML file...\n",
      " Reading geometry XML file...\n",
      " Loading cross section data...\n",
      " Loading uo2 data...\n",
      " Loading mox43 data...\n",
      " Loading mox7 data...\n",
      " Loading mox87 data...\n",
      " Loading fiss_chamber data...\n",
      " Loading guide_tube data...\n",
      " Loading water data...\n",
      " Reading tallies XML file...\n",
      " Preparing distributed cell instances...\n",
      " Reading plot XML file...\n",
      " Writing summary.h5 file...\n",
      " Initializing source particles...\n",
      "\n",
      " ====================>     K EIGENVALUE SIMULATION     <====================\n",
      "\n",
      " Creating state point statepoint.150.h5...\n",
      "\n",
      " =======================>     TIMING STATISTICS     <=======================\n",
      "\n",
      " Total time for initialization     = 1.6491e-02 seconds\n",
      "   Reading cross sections          = 8.1206e-03 seconds\n",
      " Total time in simulation          = 1.0349e+01 seconds\n",
      "   Time in transport only          = 1.0309e+01 seconds\n",
      "   Time in inactive batches        = 2.4253e+00 seconds\n",
      "   Time in active batches          = 7.9239e+00 seconds\n",
      "   Time synchronizing fission bank = 2.9981e-02 seconds\n",
      "     Sampling source sites         = 2.5394e-02 seconds\n",
      "     SEND/RECV source sites        = 4.4660e-03 seconds\n",
      "   Time accumulating tallies       = 3.2036e-04 seconds\n",
      "   Time writing statepoints        = 1.7235e-03 seconds\n",
      " Total time for finalization       = 7.8247e-04 seconds\n",
      " Total time elapsed                = 1.0370e+01 seconds\n",
      " Calculation Rate (inactive)       = 103082 particles/second\n",
      " Calculation Rate (active)         = 63100 particles/second\n",
      "\n",
      " ============================>     RESULTS     <============================\n",
      "\n",
      " k-effective (Collision)     = 1.18598 +/- 0.00158\n",
      " k-effective (Track-length)  = 1.18629 +/- 0.00194\n",
      " k-effective (Absorption)    = 1.18569 +/- 0.00111\n",
      " Combined k-effective        = 1.18574 +/- 0.00111\n",
      " Leakage Fraction            = 0.00184 +/- 0.00006\n",
      "\n"
     ]
    }
   ],
   "source": [
    "# Run OpenMC\n",
    "statepoint_filename = model.run()"
   ]
  },
  {
   "cell_type": "markdown",
   "metadata": {},
   "source": [
    "## Results Visualization\n",
    "\n",
    "Now that we have run the simulation, let's look at the fission rate and flux tallies that we tallied."
   ]
  },
  {
   "cell_type": "code",
   "execution_count": 16,
   "metadata": {},
   "outputs": [
    {
     "data": {
      "image/png": "[encoded data removed]",
      "text/plain": [
       "<Figure size 432x288 with 2 Axes>"
      ]
     },
     "metadata": {
      "needs_background": "light"
     },
     "output_type": "display_data"
    }
   ],
   "source": [
    "# Load the last statepoint file and keff value\n",
    "with openmc.StatePoint(statepoint_filename) as sp:\n",
    "    # Get the OpenMC pin power tally data\n",
    "    mesh_tally = sp.get_tally(name='mesh tally')\n",
    "    fission_rates = mesh_tally.get_values(scores=['fission'])\n",
    "\n",
    "# Reshape array to 2D for plotting\n",
    "fission_rates.shape = mesh.dimension\n",
    "\n",
    "# Normalize to the average pin power\n",
    "fission_rates /= np.mean(fission_rates[fission_rates > 0.])\n",
    "\n",
    "# Force zeros to be NaNs so their values are not included when matplotlib calculates\n",
    "# the color scale\n",
    "fission_rates[fission_rates == 0.] = np.nan\n",
    "\n",
    "# Plot the pin powers and the fluxes\n",
    "plt.figure()\n",
    "plt.imshow(fission_rates, interpolation='none', cmap='jet', origin='lower')\n",
    "plt.colorbar()\n",
    "plt.title('Pin Powers')\n",
    "plt.show()\n"
   ]
  },
  {
   "cell_type": "markdown",
   "metadata": {},
   "source": [
    "There we have it! We have just successfully run the C5G7 benchmark model!"
   ]
  }
 ],
 "metadata": {
  "kernelspec": {
   "display_name": "Python 3 (ipykernel)",
   "language": "python",
   "name": "python3"
  },
  "language_info": {
   "codemirror_mode": {
    "name": "ipython",
    "version": 3
   },
   "file_extension": ".py",
   "mimetype": "text/x-python",
   "name": "python",
   "nbconvert_exporter": "python",
   "pygments_lexer": "ipython3",
   "version": "3.9.1"
  }
 },
 "nbformat": 4,
 "nbformat_minor": 4
}
